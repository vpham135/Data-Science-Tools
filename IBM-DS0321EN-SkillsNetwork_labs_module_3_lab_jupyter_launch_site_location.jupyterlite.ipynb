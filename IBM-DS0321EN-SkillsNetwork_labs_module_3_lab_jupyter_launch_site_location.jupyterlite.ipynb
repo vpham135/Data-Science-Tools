{
  "metadata": {
    "language_info": {
      "codemirror_mode": {
        "name": "python",
        "version": 3
      },
      "file_extension": ".py",
      "mimetype": "text/x-python",
      "name": "python",
      "nbconvert_exporter": "python",
      "pygments_lexer": "ipython3",
      "version": "3.8"
    },
    "kernelspec": {
      "name": "python",
      "display_name": "Pyolite",
      "language": "python"
    }
  },
  "nbformat_minor": 4,
  "nbformat": 4,
  "cells": [
    {
      "cell_type": "markdown",
      "source": "<p style=\"text-align:center\">\n    <a href=\"https://skills.network/?utm_medium=Exinfluencer&utm_source=Exinfluencer&utm_content=000026UJ&utm_term=10006555&utm_id=NA-SkillsNetwork-Channel-SkillsNetworkCoursesIBMDS0321ENSkillsNetwork26802033-2022-01-01\" target=\"_blank\">\n    <img src=\"https://cf-courses-data.s3.us.cloud-object-storage.appdomain.cloud/assets/logos/SN_web_lightmode.png\" width=\"200\" alt=\"Skills Network Logo\"  />\n    </a>\n</p>\n",
      "metadata": {}
    },
    {
      "cell_type": "markdown",
      "source": "# **Launch Sites Locations Analysis with Folium**\n",
      "metadata": {}
    },
    {
      "cell_type": "markdown",
      "source": "Estimated time needed: **40** minutes\n",
      "metadata": {}
    },
    {
      "cell_type": "markdown",
      "source": "The launch success rate may depend on many factors such as payload mass, orbit type, and so on. It may also depend on the location and proximities of a launch site, i.e., the initial position of rocket trajectories. Finding an optimal location for building a launch site certainly involves many factors and hopefully we could discover some of the factors by analyzing the existing launch site locations.\n",
      "metadata": {}
    },
    {
      "cell_type": "markdown",
      "source": "In the previous exploratory data analysis labs, you have visualized the SpaceX launch dataset using `matplotlib` and `seaborn` and discovered some preliminary correlations between the launch site and success rates. In this lab, you will be performing more interactive visual analytics using `Folium`.\n",
      "metadata": {}
    },
    {
      "cell_type": "markdown",
      "source": "## Objectives\n",
      "metadata": {}
    },
    {
      "cell_type": "markdown",
      "source": "This lab contains the following tasks:\n\n*   **TASK 1:** Mark all launch sites on a map\n*   **TASK 2:** Mark the success/failed launches for each site on the map\n*   **TASK 3:** Calculate the distances between a launch site to its proximities\n\nAfter completed the above tasks, you should be able to find some geographical patterns about launch sites.\n",
      "metadata": {}
    },
    {
      "cell_type": "markdown",
      "source": "Let's first import required Python packages for this lab:\n",
      "metadata": {}
    },
    {
      "cell_type": "code",
      "source": "import piplite\nawait piplite.install(['folium'])\nawait piplite.install(['pandas'])",
      "metadata": {
        "trusted": true
      },
      "execution_count": 1,
      "outputs": []
    },
    {
      "cell_type": "code",
      "source": "import folium\nimport pandas as pd",
      "metadata": {
        "trusted": true
      },
      "execution_count": 2,
      "outputs": []
    },
    {
      "cell_type": "code",
      "source": "# Import folium MarkerCluster plugin\nfrom folium.plugins import MarkerCluster\n# Import folium MousePosition plugin\nfrom folium.plugins import MousePosition\n# Import folium DivIcon plugin\nfrom folium.features import DivIcon",
      "metadata": {
        "trusted": true
      },
      "execution_count": 3,
      "outputs": []
    },
    {
      "cell_type": "markdown",
      "source": "If you need to refresh your memory about folium, you may download and refer to this previous folium lab:\n",
      "metadata": {}
    },
    {
      "cell_type": "markdown",
      "source": "[Generating Maps with Python](https://cf-courses-data.s3.us.cloud-object-storage.appdomain.cloud/IBM-DS0321EN-SkillsNetwork/labs/module\\_3/DV0101EN-3-5-1-Generating-Maps-in-Python-py-v2.0.ipynb)\n",
      "metadata": {}
    },
    {
      "cell_type": "code",
      "source": "## Task 1: Mark all launch sites on a map\n",
      "metadata": {
        "trusted": true
      },
      "execution_count": 4,
      "outputs": []
    },
    {
      "cell_type": "markdown",
      "source": "First, let's try to add each site's location on a map using site's latitude and longitude coordinates\n",
      "metadata": {}
    },
    {
      "cell_type": "markdown",
      "source": "The following dataset with the name `spacex_launch_geo.csv` is an augmented dataset with latitude and longitude added for each site.\n",
      "metadata": {}
    },
    {
      "cell_type": "code",
      "source": "# Download and read the `spacex_launch_geo.csv`\nfrom js import fetch\nimport io\n\nURL = 'https://cf-courses-data.s3.us.cloud-object-storage.appdomain.cloud/IBM-DS0321EN-SkillsNetwork/datasets/spacex_launch_geo.csv'\nresp = await fetch(URL)\nspacex_csv_file = io.BytesIO((await resp.arrayBuffer()).to_py())\nspacex_df=pd.read_csv(spacex_csv_file)",
      "metadata": {
        "trusted": true
      },
      "execution_count": 5,
      "outputs": []
    },
    {
      "cell_type": "markdown",
      "source": "Now, you can take a look at what are the coordinates for each site.\n",
      "metadata": {}
    },
    {
      "cell_type": "code",
      "source": "# Select relevant sub-columns: `Launch Site`, `Lat(Latitude)`, `Long(Longitude)`, `class`\nspacex_df = spacex_df[['Launch Site', 'Lat', 'Long', 'class']]\nlaunch_sites_df = spacex_df.groupby(['Launch Site'], as_index=False).first()\nlaunch_sites_df = launch_sites_df[['Launch Site', 'Lat', 'Long']]\nlaunch_sites_df",
      "metadata": {
        "trusted": true
      },
      "execution_count": 6,
      "outputs": [
        {
          "execution_count": 6,
          "output_type": "execute_result",
          "data": {
            "text/plain": "    Launch Site        Lat        Long\n0   CCAFS LC-40  28.562302  -80.577356\n1  CCAFS SLC-40  28.563197  -80.576820\n2    KSC LC-39A  28.573255  -80.646895\n3   VAFB SLC-4E  34.632834 -120.610745",
            "text/html": "<div>\n<style scoped>\n    .dataframe tbody tr th:only-of-type {\n        vertical-align: middle;\n    }\n\n    .dataframe tbody tr th {\n        vertical-align: top;\n    }\n\n    .dataframe thead th {\n        text-align: right;\n    }\n</style>\n<table border=\"1\" class=\"dataframe\">\n  <thead>\n    <tr style=\"text-align: right;\">\n      <th></th>\n      <th>Launch Site</th>\n      <th>Lat</th>\n      <th>Long</th>\n    </tr>\n  </thead>\n  <tbody>\n    <tr>\n      <th>0</th>\n      <td>CCAFS LC-40</td>\n      <td>28.562302</td>\n      <td>-80.577356</td>\n    </tr>\n    <tr>\n      <th>1</th>\n      <td>CCAFS SLC-40</td>\n      <td>28.563197</td>\n      <td>-80.576820</td>\n    </tr>\n    <tr>\n      <th>2</th>\n      <td>KSC LC-39A</td>\n      <td>28.573255</td>\n      <td>-80.646895</td>\n    </tr>\n    <tr>\n      <th>3</th>\n      <td>VAFB SLC-4E</td>\n      <td>34.632834</td>\n      <td>-120.610745</td>\n    </tr>\n  </tbody>\n</table>\n</div>"
          },
          "metadata": {}
        }
      ]
    },
    {
      "cell_type": "markdown",
      "source": "Above coordinates are just plain numbers that can not give you any intuitive insights about where are those launch sites. If you are very good at geography, you can interpret those numbers directly in your mind. If not, that's fine too. Let's visualize those locations by pinning them on a map.\n",
      "metadata": {}
    },
    {
      "cell_type": "markdown",
      "source": "We first need to create a folium `Map` object, with an initial center location to be NASA Johnson Space Center at Houston, Texas.\n",
      "metadata": {}
    },
    {
      "cell_type": "code",
      "source": "# Start location is NASA Johnson Space Center\nnasa_coordinate = [29.559684888503615, -95.0830971930759]\nsite_map = folium.Map(location=nasa_coordinate, zoom_start=10)",
      "metadata": {
        "trusted": true
      },
      "execution_count": 7,
      "outputs": []
    },
    {
      "cell_type": "markdown",
      "source": "We could use `folium.Circle` to add a highlighted circle area with a text label on a specific coordinate. For example,\n",
      "metadata": {}
    },
    {
      "cell_type": "code",
      "source": "# Create a blue circle at NASA Johnson Space Center's coordinate with a popup label showing its name\ncircle = folium.Circle(nasa_coordinate, radius=1000, color='#d35400', fill=True).add_child(folium.Popup('NASA Johnson Space Center'))\n# Create a blue circle at NASA Johnson Space Center's coordinate with a icon showing its name\nmarker = folium.map.Marker(\n    nasa_coordinate,\n    # Create an icon as a text label\n    icon=DivIcon(\n        icon_size=(20,20),\n        icon_anchor=(0,0),\n        html='<div style=\"font-size: 12; color:#d35400;\"><b>%s</b></div>' % 'NASA JSC',\n        )\n    )\nsite_map.add_child(circle)\nsite_map.add_child(marker)",
      "metadata": {
        "trusted": true
      },
      "execution_count": 8,
      "outputs": [
        {
          "execution_count": 8,
          "output_type": "execute_result",
          "data": {
            "text/plain": "<folium.folium.Map at 0x40f3f30>",
            "text/html": "<div style=\"width:100%;\"><div style=\"position:relative;width:100%;height:0;padding-bottom:60%;\"><span style=\"color:#565656\">Make this Notebook Trusted to load map: File -> Trust Notebook</span><iframe srcdoc=\"&lt;!DOCTYPE html&gt;\n&lt;html&gt;\n&lt;head&gt;\n    \n    &lt;meta http-equiv=&quot;content-type&quot; content=&quot;text/html; charset=UTF-8&quot; /&gt;\n    \n        &lt;script&gt;\n            L_NO_TOUCH = false;\n            L_DISABLE_3D = false;\n        &lt;/script&gt;\n    \n    &lt;style&gt;html, body {width: 100%;height: 100%;margin: 0;padding: 0;}&lt;/style&gt;\n    &lt;style&gt;#map {position:absolute;top:0;bottom:0;right:0;left:0;}&lt;/style&gt;\n    &lt;script src=&quot;https://cdn.jsdelivr.net/npm/leaflet@1.9.3/dist/leaflet.js&quot;&gt;&lt;/script&gt;\n    &lt;script src=&quot;https://code.jquery.com/jquery-1.12.4.min.js&quot;&gt;&lt;/script&gt;\n    &lt;script src=&quot;https://cdn.jsdelivr.net/npm/bootstrap@5.2.2/dist/js/bootstrap.bundle.min.js&quot;&gt;&lt;/script&gt;\n    &lt;script src=&quot;https://cdnjs.cloudflare.com/ajax/libs/Leaflet.awesome-markers/2.0.2/leaflet.awesome-markers.js&quot;&gt;&lt;/script&gt;\n    &lt;link rel=&quot;stylesheet&quot; href=&quot;https://cdn.jsdelivr.net/npm/leaflet@1.9.3/dist/leaflet.css&quot;/&gt;\n    &lt;link rel=&quot;stylesheet&quot; href=&quot;https://cdn.jsdelivr.net/npm/bootstrap@5.2.2/dist/css/bootstrap.min.css&quot;/&gt;\n    &lt;link rel=&quot;stylesheet&quot; href=&quot;https://netdna.bootstrapcdn.com/bootstrap/3.0.0/css/bootstrap.min.css&quot;/&gt;\n    &lt;link rel=&quot;stylesheet&quot; href=&quot;https://cdn.jsdelivr.net/npm/@fortawesome/fontawesome-free@6.2.0/css/all.min.css&quot;/&gt;\n    &lt;link rel=&quot;stylesheet&quot; href=&quot;https://cdnjs.cloudflare.com/ajax/libs/Leaflet.awesome-markers/2.0.2/leaflet.awesome-markers.css&quot;/&gt;\n    &lt;link rel=&quot;stylesheet&quot; href=&quot;https://cdn.jsdelivr.net/gh/python-visualization/folium/folium/templates/leaflet.awesome.rotate.min.css&quot;/&gt;\n    \n            &lt;meta name=&quot;viewport&quot; content=&quot;width=device-width,\n                initial-scale=1.0, maximum-scale=1.0, user-scalable=no&quot; /&gt;\n            &lt;style&gt;\n                #map_61c73101790ef86a9d451f08650e6bb3 {\n                    position: relative;\n                    width: 100.0%;\n                    height: 100.0%;\n                    left: 0.0%;\n                    top: 0.0%;\n                }\n                .leaflet-container { font-size: 1rem; }\n            &lt;/style&gt;\n        \n&lt;/head&gt;\n&lt;body&gt;\n    \n    \n            &lt;div class=&quot;folium-map&quot; id=&quot;map_61c73101790ef86a9d451f08650e6bb3&quot; &gt;&lt;/div&gt;\n        \n&lt;/body&gt;\n&lt;script&gt;\n    \n    \n            var map_61c73101790ef86a9d451f08650e6bb3 = L.map(\n                &quot;map_61c73101790ef86a9d451f08650e6bb3&quot;,\n                {\n                    center: [29.559684888503615, -95.0830971930759],\n                    crs: L.CRS.EPSG3857,\n                    zoom: 10,\n                    zoomControl: true,\n                    preferCanvas: false,\n                }\n            );\n\n            \n\n        \n    \n            var tile_layer_bb762f0dc3b6b16fc88b0808fd6fe176 = L.tileLayer(\n                &quot;https://{s}.tile.openstreetmap.org/{z}/{x}/{y}.png&quot;,\n                {&quot;attribution&quot;: &quot;Data by \\u0026copy; \\u003ca target=\\&quot;_blank\\&quot; href=\\&quot;http://openstreetmap.org\\&quot;\\u003eOpenStreetMap\\u003c/a\\u003e, under \\u003ca target=\\&quot;_blank\\&quot; href=\\&quot;http://www.openstreetmap.org/copyright\\&quot;\\u003eODbL\\u003c/a\\u003e.&quot;, &quot;detectRetina&quot;: false, &quot;maxNativeZoom&quot;: 18, &quot;maxZoom&quot;: 18, &quot;minZoom&quot;: 0, &quot;noWrap&quot;: false, &quot;opacity&quot;: 1, &quot;subdomains&quot;: &quot;abc&quot;, &quot;tms&quot;: false}\n            ).addTo(map_61c73101790ef86a9d451f08650e6bb3);\n        \n    \n            var circle_91002efaa2d08246d0af864b8e20df92 = L.circle(\n                [29.559684888503615, -95.0830971930759],\n                {&quot;bubblingMouseEvents&quot;: true, &quot;color&quot;: &quot;#d35400&quot;, &quot;dashArray&quot;: null, &quot;dashOffset&quot;: null, &quot;fill&quot;: true, &quot;fillColor&quot;: &quot;#d35400&quot;, &quot;fillOpacity&quot;: 0.2, &quot;fillRule&quot;: &quot;evenodd&quot;, &quot;lineCap&quot;: &quot;round&quot;, &quot;lineJoin&quot;: &quot;round&quot;, &quot;opacity&quot;: 1.0, &quot;radius&quot;: 1000, &quot;stroke&quot;: true, &quot;weight&quot;: 3}\n            ).addTo(map_61c73101790ef86a9d451f08650e6bb3);\n        \n    \n        var popup_4cd1d31db0b812f6531774419c1876fd = L.popup({&quot;maxWidth&quot;: &quot;100%&quot;});\n\n        \n            \n                var html_122c69533b3ff1628e70a9e5458f0466 = $(`&lt;div id=&quot;html_122c69533b3ff1628e70a9e5458f0466&quot; style=&quot;width: 100.0%; height: 100.0%;&quot;&gt;NASA Johnson Space Center&lt;/div&gt;`)[0];\n                popup_4cd1d31db0b812f6531774419c1876fd.setContent(html_122c69533b3ff1628e70a9e5458f0466);\n            \n        \n\n        circle_91002efaa2d08246d0af864b8e20df92.bindPopup(popup_4cd1d31db0b812f6531774419c1876fd)\n        ;\n\n        \n    \n    \n            var marker_c2080773a0b4c83521ca89a361e8980e = L.marker(\n                [29.559684888503615, -95.0830971930759],\n                {}\n            ).addTo(map_61c73101790ef86a9d451f08650e6bb3);\n        \n    \n            var div_icon_3490d2ccb49a7ab61fb7ecf95e51b436 = L.divIcon({&quot;className&quot;: &quot;empty&quot;, &quot;html&quot;: &quot;\\u003cdiv style=\\&quot;font-size: 12; color:#d35400;\\&quot;\\u003e\\u003cb\\u003eNASA JSC\\u003c/b\\u003e\\u003c/div\\u003e&quot;, &quot;iconAnchor&quot;: [0, 0], &quot;iconSize&quot;: [20, 20]});\n            marker_c2080773a0b4c83521ca89a361e8980e.setIcon(div_icon_3490d2ccb49a7ab61fb7ecf95e51b436);\n        \n&lt;/script&gt;\n&lt;/html&gt;\" style=\"position:absolute;width:100%;height:100%;left:0;top:0;border:none !important;\" allowfullscreen webkitallowfullscreen mozallowfullscreen></iframe></div></div>"
          },
          "metadata": {}
        }
      ]
    },
    {
      "cell_type": "markdown",
      "source": "and you should find a small yellow circle near the city of Houston and you can zoom-in to see a larger circle.\n",
      "metadata": {}
    },
    {
      "cell_type": "markdown",
      "source": "Now, let's add a circle for each launch site in data frame `launch_sites`\n",
      "metadata": {}
    },
    {
      "cell_type": "markdown",
      "source": "*TODO:*  Create and add `folium.Circle` and `folium.Marker` for each launch site on the site map\n",
      "metadata": {}
    },
    {
      "cell_type": "markdown",
      "source": "An example of folium.Circle:\n",
      "metadata": {}
    },
    {
      "cell_type": "markdown",
      "source": "`folium.Circle(coordinate, radius=1000, color='#000000', fill=True).add_child(folium.Popup(...))`\n",
      "metadata": {}
    },
    {
      "cell_type": "markdown",
      "source": "An example of folium.Marker:\n",
      "metadata": {}
    },
    {
      "cell_type": "markdown",
      "source": "`folium.map.Marker(coordinate, icon=DivIcon(icon_size=(20,20),icon_anchor=(0,0), html='<div style=\"font-size: 12; color:#d35400;\"><b>%s</b></div>' % 'label', ))`\n",
      "metadata": {}
    },
    {
      "cell_type": "code",
      "source": "# Initial the map\nsite_map = folium.Map(location=nasa_coordinate, zoom_start=5)\n# For each launch site, add a Circle object based on its coordinate (Lat, Long) values. In addition, add Launch site name as a popup label\nfor index, row in launch_sites_df.iterrows():\n    coordinate = [row['Lat'], row['Long']]\n    folium.Circle(coordinate, radius=1000, color='#000000', fill=True).add_child(folium.Popup(row['Launch Site'])).add_to(site_map)\n    folium.map.Marker(coordinate, icon=DivIcon(icon_size=(20,20),icon_anchor=(0,0), html='<div style=\"font-size: 12; color:#d35400;\"><b>%s</b></div>' % row['Launch Site'], )).add_to(site_map)\nsite_map",
      "metadata": {
        "trusted": true
      },
      "execution_count": 9,
      "outputs": [
        {
          "execution_count": 9,
          "output_type": "execute_result",
          "data": {
            "text/plain": "<folium.folium.Map at 0x42253c8>",
            "text/html": "<div style=\"width:100%;\"><div style=\"position:relative;width:100%;height:0;padding-bottom:60%;\"><span style=\"color:#565656\">Make this Notebook Trusted to load map: File -> Trust Notebook</span><iframe srcdoc=\"&lt;!DOCTYPE html&gt;\n&lt;html&gt;\n&lt;head&gt;\n    \n    &lt;meta http-equiv=&quot;content-type&quot; content=&quot;text/html; charset=UTF-8&quot; /&gt;\n    \n        &lt;script&gt;\n            L_NO_TOUCH = false;\n            L_DISABLE_3D = false;\n        &lt;/script&gt;\n    \n    &lt;style&gt;html, body {width: 100%;height: 100%;margin: 0;padding: 0;}&lt;/style&gt;\n    &lt;style&gt;#map {position:absolute;top:0;bottom:0;right:0;left:0;}&lt;/style&gt;\n    &lt;script src=&quot;https://cdn.jsdelivr.net/npm/leaflet@1.9.3/dist/leaflet.js&quot;&gt;&lt;/script&gt;\n    &lt;script src=&quot;https://code.jquery.com/jquery-1.12.4.min.js&quot;&gt;&lt;/script&gt;\n    &lt;script src=&quot;https://cdn.jsdelivr.net/npm/bootstrap@5.2.2/dist/js/bootstrap.bundle.min.js&quot;&gt;&lt;/script&gt;\n    &lt;script src=&quot;https://cdnjs.cloudflare.com/ajax/libs/Leaflet.awesome-markers/2.0.2/leaflet.awesome-markers.js&quot;&gt;&lt;/script&gt;\n    &lt;link rel=&quot;stylesheet&quot; href=&quot;https://cdn.jsdelivr.net/npm/leaflet@1.9.3/dist/leaflet.css&quot;/&gt;\n    &lt;link rel=&quot;stylesheet&quot; href=&quot;https://cdn.jsdelivr.net/npm/bootstrap@5.2.2/dist/css/bootstrap.min.css&quot;/&gt;\n    &lt;link rel=&quot;stylesheet&quot; href=&quot;https://netdna.bootstrapcdn.com/bootstrap/3.0.0/css/bootstrap.min.css&quot;/&gt;\n    &lt;link rel=&quot;stylesheet&quot; href=&quot;https://cdn.jsdelivr.net/npm/@fortawesome/fontawesome-free@6.2.0/css/all.min.css&quot;/&gt;\n    &lt;link rel=&quot;stylesheet&quot; href=&quot;https://cdnjs.cloudflare.com/ajax/libs/Leaflet.awesome-markers/2.0.2/leaflet.awesome-markers.css&quot;/&gt;\n    &lt;link rel=&quot;stylesheet&quot; href=&quot;https://cdn.jsdelivr.net/gh/python-visualization/folium/folium/templates/leaflet.awesome.rotate.min.css&quot;/&gt;\n    \n            &lt;meta name=&quot;viewport&quot; content=&quot;width=device-width,\n                initial-scale=1.0, maximum-scale=1.0, user-scalable=no&quot; /&gt;\n            &lt;style&gt;\n                #map_38ed1263d82d897c2a0e5893879193d8 {\n                    position: relative;\n                    width: 100.0%;\n                    height: 100.0%;\n                    left: 0.0%;\n                    top: 0.0%;\n                }\n                .leaflet-container { font-size: 1rem; }\n            &lt;/style&gt;\n        \n&lt;/head&gt;\n&lt;body&gt;\n    \n    \n            &lt;div class=&quot;folium-map&quot; id=&quot;map_38ed1263d82d897c2a0e5893879193d8&quot; &gt;&lt;/div&gt;\n        \n&lt;/body&gt;\n&lt;script&gt;\n    \n    \n            var map_38ed1263d82d897c2a0e5893879193d8 = L.map(\n                &quot;map_38ed1263d82d897c2a0e5893879193d8&quot;,\n                {\n                    center: [29.559684888503615, -95.0830971930759],\n                    crs: L.CRS.EPSG3857,\n                    zoom: 5,\n                    zoomControl: true,\n                    preferCanvas: false,\n                }\n            );\n\n            \n\n        \n    \n            var tile_layer_ce1fb1b9acbee3a6399779b2ccd81bb8 = L.tileLayer(\n                &quot;https://{s}.tile.openstreetmap.org/{z}/{x}/{y}.png&quot;,\n                {&quot;attribution&quot;: &quot;Data by \\u0026copy; \\u003ca target=\\&quot;_blank\\&quot; href=\\&quot;http://openstreetmap.org\\&quot;\\u003eOpenStreetMap\\u003c/a\\u003e, under \\u003ca target=\\&quot;_blank\\&quot; href=\\&quot;http://www.openstreetmap.org/copyright\\&quot;\\u003eODbL\\u003c/a\\u003e.&quot;, &quot;detectRetina&quot;: false, &quot;maxNativeZoom&quot;: 18, &quot;maxZoom&quot;: 18, &quot;minZoom&quot;: 0, &quot;noWrap&quot;: false, &quot;opacity&quot;: 1, &quot;subdomains&quot;: &quot;abc&quot;, &quot;tms&quot;: false}\n            ).addTo(map_38ed1263d82d897c2a0e5893879193d8);\n        \n    \n            var circle_a6d321a1ba701069111310dbf5f1897f = L.circle(\n                [28.56230197, -80.57735648],\n                {&quot;bubblingMouseEvents&quot;: true, &quot;color&quot;: &quot;#000000&quot;, &quot;dashArray&quot;: null, &quot;dashOffset&quot;: null, &quot;fill&quot;: true, &quot;fillColor&quot;: &quot;#000000&quot;, &quot;fillOpacity&quot;: 0.2, &quot;fillRule&quot;: &quot;evenodd&quot;, &quot;lineCap&quot;: &quot;round&quot;, &quot;lineJoin&quot;: &quot;round&quot;, &quot;opacity&quot;: 1.0, &quot;radius&quot;: 1000, &quot;stroke&quot;: true, &quot;weight&quot;: 3}\n            ).addTo(map_38ed1263d82d897c2a0e5893879193d8);\n        \n    \n        var popup_aaa8239143ddda3cabe08d03d3c30f10 = L.popup({&quot;maxWidth&quot;: &quot;100%&quot;});\n\n        \n            \n                var html_3b5e9432e702c74950c1a187c0fa75ee = $(`&lt;div id=&quot;html_3b5e9432e702c74950c1a187c0fa75ee&quot; style=&quot;width: 100.0%; height: 100.0%;&quot;&gt;CCAFS LC-40&lt;/div&gt;`)[0];\n                popup_aaa8239143ddda3cabe08d03d3c30f10.setContent(html_3b5e9432e702c74950c1a187c0fa75ee);\n            \n        \n\n        circle_a6d321a1ba701069111310dbf5f1897f.bindPopup(popup_aaa8239143ddda3cabe08d03d3c30f10)\n        ;\n\n        \n    \n    \n            var marker_6daa4060cca1cc93aa2a9f1a1d340d95 = L.marker(\n                [28.56230197, -80.57735648],\n                {}\n            ).addTo(map_38ed1263d82d897c2a0e5893879193d8);\n        \n    \n            var div_icon_a80e1f58701679d64bc2d296a3ef85e6 = L.divIcon({&quot;className&quot;: &quot;empty&quot;, &quot;html&quot;: &quot;\\u003cdiv style=\\&quot;font-size: 12; color:#d35400;\\&quot;\\u003e\\u003cb\\u003eCCAFS LC-40\\u003c/b\\u003e\\u003c/div\\u003e&quot;, &quot;iconAnchor&quot;: [0, 0], &quot;iconSize&quot;: [20, 20]});\n            marker_6daa4060cca1cc93aa2a9f1a1d340d95.setIcon(div_icon_a80e1f58701679d64bc2d296a3ef85e6);\n        \n    \n            var circle_fd0b70c5004ceaa591864b1ee3a30b09 = L.circle(\n                [28.56319718, -80.57682003],\n                {&quot;bubblingMouseEvents&quot;: true, &quot;color&quot;: &quot;#000000&quot;, &quot;dashArray&quot;: null, &quot;dashOffset&quot;: null, &quot;fill&quot;: true, &quot;fillColor&quot;: &quot;#000000&quot;, &quot;fillOpacity&quot;: 0.2, &quot;fillRule&quot;: &quot;evenodd&quot;, &quot;lineCap&quot;: &quot;round&quot;, &quot;lineJoin&quot;: &quot;round&quot;, &quot;opacity&quot;: 1.0, &quot;radius&quot;: 1000, &quot;stroke&quot;: true, &quot;weight&quot;: 3}\n            ).addTo(map_38ed1263d82d897c2a0e5893879193d8);\n        \n    \n        var popup_02d6f1d7b95b474287e88ece1216a1ff = L.popup({&quot;maxWidth&quot;: &quot;100%&quot;});\n\n        \n            \n                var html_da7cf9b8d484817be9c5d382d0456f43 = $(`&lt;div id=&quot;html_da7cf9b8d484817be9c5d382d0456f43&quot; style=&quot;width: 100.0%; height: 100.0%;&quot;&gt;CCAFS SLC-40&lt;/div&gt;`)[0];\n                popup_02d6f1d7b95b474287e88ece1216a1ff.setContent(html_da7cf9b8d484817be9c5d382d0456f43);\n            \n        \n\n        circle_fd0b70c5004ceaa591864b1ee3a30b09.bindPopup(popup_02d6f1d7b95b474287e88ece1216a1ff)\n        ;\n\n        \n    \n    \n            var marker_18cd00189f8c7893ab8c31dc45f0ec14 = L.marker(\n                [28.56319718, -80.57682003],\n                {}\n            ).addTo(map_38ed1263d82d897c2a0e5893879193d8);\n        \n    \n            var div_icon_23b2885afee89b36fe0d5ddc290ca6e9 = L.divIcon({&quot;className&quot;: &quot;empty&quot;, &quot;html&quot;: &quot;\\u003cdiv style=\\&quot;font-size: 12; color:#d35400;\\&quot;\\u003e\\u003cb\\u003eCCAFS SLC-40\\u003c/b\\u003e\\u003c/div\\u003e&quot;, &quot;iconAnchor&quot;: [0, 0], &quot;iconSize&quot;: [20, 20]});\n            marker_18cd00189f8c7893ab8c31dc45f0ec14.setIcon(div_icon_23b2885afee89b36fe0d5ddc290ca6e9);\n        \n    \n            var circle_6e8cc6c24e147e73ad0db3236576fbf0 = L.circle(\n                [28.57325457, -80.64689529],\n                {&quot;bubblingMouseEvents&quot;: true, &quot;color&quot;: &quot;#000000&quot;, &quot;dashArray&quot;: null, &quot;dashOffset&quot;: null, &quot;fill&quot;: true, &quot;fillColor&quot;: &quot;#000000&quot;, &quot;fillOpacity&quot;: 0.2, &quot;fillRule&quot;: &quot;evenodd&quot;, &quot;lineCap&quot;: &quot;round&quot;, &quot;lineJoin&quot;: &quot;round&quot;, &quot;opacity&quot;: 1.0, &quot;radius&quot;: 1000, &quot;stroke&quot;: true, &quot;weight&quot;: 3}\n            ).addTo(map_38ed1263d82d897c2a0e5893879193d8);\n        \n    \n        var popup_eee2021528415e22d22fcf2733654bbb = L.popup({&quot;maxWidth&quot;: &quot;100%&quot;});\n\n        \n            \n                var html_28862242d3441c149bd0e84666302ce8 = $(`&lt;div id=&quot;html_28862242d3441c149bd0e84666302ce8&quot; style=&quot;width: 100.0%; height: 100.0%;&quot;&gt;KSC LC-39A&lt;/div&gt;`)[0];\n                popup_eee2021528415e22d22fcf2733654bbb.setContent(html_28862242d3441c149bd0e84666302ce8);\n            \n        \n\n        circle_6e8cc6c24e147e73ad0db3236576fbf0.bindPopup(popup_eee2021528415e22d22fcf2733654bbb)\n        ;\n\n        \n    \n    \n            var marker_d98adcab17c23aad3fcfaa630ff56921 = L.marker(\n                [28.57325457, -80.64689529],\n                {}\n            ).addTo(map_38ed1263d82d897c2a0e5893879193d8);\n        \n    \n            var div_icon_8dafde8b5a968744166c77b83a0898c8 = L.divIcon({&quot;className&quot;: &quot;empty&quot;, &quot;html&quot;: &quot;\\u003cdiv style=\\&quot;font-size: 12; color:#d35400;\\&quot;\\u003e\\u003cb\\u003eKSC LC-39A\\u003c/b\\u003e\\u003c/div\\u003e&quot;, &quot;iconAnchor&quot;: [0, 0], &quot;iconSize&quot;: [20, 20]});\n            marker_d98adcab17c23aad3fcfaa630ff56921.setIcon(div_icon_8dafde8b5a968744166c77b83a0898c8);\n        \n    \n            var circle_2734ac5c3ac06bb4153a80cbfcf1f67c = L.circle(\n                [34.63283416, -120.6107455],\n                {&quot;bubblingMouseEvents&quot;: true, &quot;color&quot;: &quot;#000000&quot;, &quot;dashArray&quot;: null, &quot;dashOffset&quot;: null, &quot;fill&quot;: true, &quot;fillColor&quot;: &quot;#000000&quot;, &quot;fillOpacity&quot;: 0.2, &quot;fillRule&quot;: &quot;evenodd&quot;, &quot;lineCap&quot;: &quot;round&quot;, &quot;lineJoin&quot;: &quot;round&quot;, &quot;opacity&quot;: 1.0, &quot;radius&quot;: 1000, &quot;stroke&quot;: true, &quot;weight&quot;: 3}\n            ).addTo(map_38ed1263d82d897c2a0e5893879193d8);\n        \n    \n        var popup_ae89239a619c0799657a889d4c9412ef = L.popup({&quot;maxWidth&quot;: &quot;100%&quot;});\n\n        \n            \n                var html_fcc8aecd292a7beeabe993f7abc88cf0 = $(`&lt;div id=&quot;html_fcc8aecd292a7beeabe993f7abc88cf0&quot; style=&quot;width: 100.0%; height: 100.0%;&quot;&gt;VAFB SLC-4E&lt;/div&gt;`)[0];\n                popup_ae89239a619c0799657a889d4c9412ef.setContent(html_fcc8aecd292a7beeabe993f7abc88cf0);\n            \n        \n\n        circle_2734ac5c3ac06bb4153a80cbfcf1f67c.bindPopup(popup_ae89239a619c0799657a889d4c9412ef)\n        ;\n\n        \n    \n    \n            var marker_2e0d6747fb58ffb466f8f3a18cf52bdc = L.marker(\n                [34.63283416, -120.6107455],\n                {}\n            ).addTo(map_38ed1263d82d897c2a0e5893879193d8);\n        \n    \n            var div_icon_481b834b4abaacc80f041ab331b4adfe = L.divIcon({&quot;className&quot;: &quot;empty&quot;, &quot;html&quot;: &quot;\\u003cdiv style=\\&quot;font-size: 12; color:#d35400;\\&quot;\\u003e\\u003cb\\u003eVAFB SLC-4E\\u003c/b\\u003e\\u003c/div\\u003e&quot;, &quot;iconAnchor&quot;: [0, 0], &quot;iconSize&quot;: [20, 20]});\n            marker_2e0d6747fb58ffb466f8f3a18cf52bdc.setIcon(div_icon_481b834b4abaacc80f041ab331b4adfe);\n        \n&lt;/script&gt;\n&lt;/html&gt;\" style=\"position:absolute;width:100%;height:100%;left:0;top:0;border:none !important;\" allowfullscreen webkitallowfullscreen mozallowfullscreen></iframe></div></div>"
          },
          "metadata": {}
        }
      ]
    },
    {
      "cell_type": "markdown",
      "source": "The generated map with marked launch sites should look similar to the following:\n",
      "metadata": {}
    },
    {
      "cell_type": "markdown",
      "source": "<center>\n    <img src=\"https://cf-courses-data.s3.us.cloud-object-storage.appdomain.cloud/IBM-DS0321EN-SkillsNetwork/labs/module_3/images/launch_site_markers.png\">\n</center>\n",
      "metadata": {}
    },
    {
      "cell_type": "markdown",
      "source": "Now, you can explore the map by zoom-in/out the marked areas\n, and try to answer the following questions:\n\n*   Are all launch sites in proximity to the Equator line?\n*   Are all launch sites in very close proximity to the coast?\n\nAlso please try to explain your findings.\n",
      "metadata": {}
    },
    {
      "cell_type": "code",
      "source": "# Task 2: Mark the success/failed launches for each site on the map\n",
      "metadata": {
        "trusted": true
      },
      "execution_count": 10,
      "outputs": []
    },
    {
      "cell_type": "markdown",
      "source": "Next, let's try to enhance the map by adding the launch outcomes for each site, and see which sites have high success rates.\nRecall that data frame spacex_df has detailed launch records, and the `class` column indicates if this launch was successful or not\n",
      "metadata": {}
    },
    {
      "cell_type": "code",
      "source": "spacex_df.tail(10)",
      "metadata": {
        "trusted": true
      },
      "execution_count": 11,
      "outputs": [
        {
          "execution_count": 11,
          "output_type": "execute_result",
          "data": {
            "text/plain": "     Launch Site        Lat       Long  class\n46    KSC LC-39A  28.573255 -80.646895      1\n47    KSC LC-39A  28.573255 -80.646895      1\n48    KSC LC-39A  28.573255 -80.646895      1\n49  CCAFS SLC-40  28.563197 -80.576820      1\n50  CCAFS SLC-40  28.563197 -80.576820      1\n51  CCAFS SLC-40  28.563197 -80.576820      0\n52  CCAFS SLC-40  28.563197 -80.576820      0\n53  CCAFS SLC-40  28.563197 -80.576820      0\n54  CCAFS SLC-40  28.563197 -80.576820      1\n55  CCAFS SLC-40  28.563197 -80.576820      0",
            "text/html": "<div>\n<style scoped>\n    .dataframe tbody tr th:only-of-type {\n        vertical-align: middle;\n    }\n\n    .dataframe tbody tr th {\n        vertical-align: top;\n    }\n\n    .dataframe thead th {\n        text-align: right;\n    }\n</style>\n<table border=\"1\" class=\"dataframe\">\n  <thead>\n    <tr style=\"text-align: right;\">\n      <th></th>\n      <th>Launch Site</th>\n      <th>Lat</th>\n      <th>Long</th>\n      <th>class</th>\n    </tr>\n  </thead>\n  <tbody>\n    <tr>\n      <th>46</th>\n      <td>KSC LC-39A</td>\n      <td>28.573255</td>\n      <td>-80.646895</td>\n      <td>1</td>\n    </tr>\n    <tr>\n      <th>47</th>\n      <td>KSC LC-39A</td>\n      <td>28.573255</td>\n      <td>-80.646895</td>\n      <td>1</td>\n    </tr>\n    <tr>\n      <th>48</th>\n      <td>KSC LC-39A</td>\n      <td>28.573255</td>\n      <td>-80.646895</td>\n      <td>1</td>\n    </tr>\n    <tr>\n      <th>49</th>\n      <td>CCAFS SLC-40</td>\n      <td>28.563197</td>\n      <td>-80.576820</td>\n      <td>1</td>\n    </tr>\n    <tr>\n      <th>50</th>\n      <td>CCAFS SLC-40</td>\n      <td>28.563197</td>\n      <td>-80.576820</td>\n      <td>1</td>\n    </tr>\n    <tr>\n      <th>51</th>\n      <td>CCAFS SLC-40</td>\n      <td>28.563197</td>\n      <td>-80.576820</td>\n      <td>0</td>\n    </tr>\n    <tr>\n      <th>52</th>\n      <td>CCAFS SLC-40</td>\n      <td>28.563197</td>\n      <td>-80.576820</td>\n      <td>0</td>\n    </tr>\n    <tr>\n      <th>53</th>\n      <td>CCAFS SLC-40</td>\n      <td>28.563197</td>\n      <td>-80.576820</td>\n      <td>0</td>\n    </tr>\n    <tr>\n      <th>54</th>\n      <td>CCAFS SLC-40</td>\n      <td>28.563197</td>\n      <td>-80.576820</td>\n      <td>1</td>\n    </tr>\n    <tr>\n      <th>55</th>\n      <td>CCAFS SLC-40</td>\n      <td>28.563197</td>\n      <td>-80.576820</td>\n      <td>0</td>\n    </tr>\n  </tbody>\n</table>\n</div>"
          },
          "metadata": {}
        }
      ]
    },
    {
      "cell_type": "markdown",
      "source": "Next, let's create markers for all launch records.\nIf a launch was successful `(class=1)`, then we use a green marker and if a launch was failed, we use a red marker `(class=0)`\n",
      "metadata": {}
    },
    {
      "cell_type": "markdown",
      "source": "Note that a launch only happens in one of the four launch sites, which means many launch records will have the exact same coordinate. Marker clusters can be a good way to simplify a map containing many markers having the same coordinate.\n",
      "metadata": {}
    },
    {
      "cell_type": "markdown",
      "source": "Let's first create a `MarkerCluster` object\n",
      "metadata": {}
    },
    {
      "cell_type": "code",
      "source": "marker_cluster = MarkerCluster()\n",
      "metadata": {
        "trusted": true
      },
      "execution_count": 12,
      "outputs": []
    },
    {
      "cell_type": "markdown",
      "source": "*TODO:* Create a new column in `launch_sites` dataframe called `marker_color` to store the marker colors based on the `class` value\n",
      "metadata": {}
    },
    {
      "cell_type": "code",
      "source": "\n# Apply a function to check the value of `class` column\n# If class=1, marker_color value will be green\n# If class=0, marker_color value will be red\ndef assign_marker_color(launch_outcome):\n    if launch_outcome == 1:\n        return 'green'\n    else:\n        return 'red'\n    \nspacex_df['marker_color'] = spacex_df['class'].apply(assign_marker_color)\nspacex_df.tail(10)\n",
      "metadata": {
        "trusted": true
      },
      "execution_count": 25,
      "outputs": [
        {
          "execution_count": 25,
          "output_type": "execute_result",
          "data": {
            "text/plain": "     Launch Site        Lat       Long  class marker_color\n46    KSC LC-39A  28.573255 -80.646895      1        green\n47    KSC LC-39A  28.573255 -80.646895      1        green\n48    KSC LC-39A  28.573255 -80.646895      1        green\n49  CCAFS SLC-40  28.563197 -80.576820      1        green\n50  CCAFS SLC-40  28.563197 -80.576820      1        green\n51  CCAFS SLC-40  28.563197 -80.576820      0          red\n52  CCAFS SLC-40  28.563197 -80.576820      0          red\n53  CCAFS SLC-40  28.563197 -80.576820      0          red\n54  CCAFS SLC-40  28.563197 -80.576820      1        green\n55  CCAFS SLC-40  28.563197 -80.576820      0          red",
            "text/html": "<div>\n<style scoped>\n    .dataframe tbody tr th:only-of-type {\n        vertical-align: middle;\n    }\n\n    .dataframe tbody tr th {\n        vertical-align: top;\n    }\n\n    .dataframe thead th {\n        text-align: right;\n    }\n</style>\n<table border=\"1\" class=\"dataframe\">\n  <thead>\n    <tr style=\"text-align: right;\">\n      <th></th>\n      <th>Launch Site</th>\n      <th>Lat</th>\n      <th>Long</th>\n      <th>class</th>\n      <th>marker_color</th>\n    </tr>\n  </thead>\n  <tbody>\n    <tr>\n      <th>46</th>\n      <td>KSC LC-39A</td>\n      <td>28.573255</td>\n      <td>-80.646895</td>\n      <td>1</td>\n      <td>green</td>\n    </tr>\n    <tr>\n      <th>47</th>\n      <td>KSC LC-39A</td>\n      <td>28.573255</td>\n      <td>-80.646895</td>\n      <td>1</td>\n      <td>green</td>\n    </tr>\n    <tr>\n      <th>48</th>\n      <td>KSC LC-39A</td>\n      <td>28.573255</td>\n      <td>-80.646895</td>\n      <td>1</td>\n      <td>green</td>\n    </tr>\n    <tr>\n      <th>49</th>\n      <td>CCAFS SLC-40</td>\n      <td>28.563197</td>\n      <td>-80.576820</td>\n      <td>1</td>\n      <td>green</td>\n    </tr>\n    <tr>\n      <th>50</th>\n      <td>CCAFS SLC-40</td>\n      <td>28.563197</td>\n      <td>-80.576820</td>\n      <td>1</td>\n      <td>green</td>\n    </tr>\n    <tr>\n      <th>51</th>\n      <td>CCAFS SLC-40</td>\n      <td>28.563197</td>\n      <td>-80.576820</td>\n      <td>0</td>\n      <td>red</td>\n    </tr>\n    <tr>\n      <th>52</th>\n      <td>CCAFS SLC-40</td>\n      <td>28.563197</td>\n      <td>-80.576820</td>\n      <td>0</td>\n      <td>red</td>\n    </tr>\n    <tr>\n      <th>53</th>\n      <td>CCAFS SLC-40</td>\n      <td>28.563197</td>\n      <td>-80.576820</td>\n      <td>0</td>\n      <td>red</td>\n    </tr>\n    <tr>\n      <th>54</th>\n      <td>CCAFS SLC-40</td>\n      <td>28.563197</td>\n      <td>-80.576820</td>\n      <td>1</td>\n      <td>green</td>\n    </tr>\n    <tr>\n      <th>55</th>\n      <td>CCAFS SLC-40</td>\n      <td>28.563197</td>\n      <td>-80.576820</td>\n      <td>0</td>\n      <td>red</td>\n    </tr>\n  </tbody>\n</table>\n</div>"
          },
          "metadata": {}
        }
      ]
    },
    {
      "cell_type": "markdown",
      "source": "*TODO:* For each launch result in `spacex_df` data frame, add a `folium.Marker` to `marker_cluster`\n",
      "metadata": {}
    },
    {
      "cell_type": "code",
      "source": "# Add marker_cluster to current site_map\nsite_map.add_child(marker_cluster)\n\n# for each row in spacex_df data frame\n# create a Marker object with its coordinate\n# and customize the Marker's icon property to indicate if this launch was successed or failed, \n# e.g., icon=folium.Icon(color='white', icon_color=row['marker_color']\nfor index, record in spacex_df.iterrows():\n    # TODO: Create and add a Marker cluster to the site map\n    # marker = folium.Marker(...)\n    coordinate = [row['Lat'], row['Long']]\n    folium.map.Marker(coordinate, icon=folium.Icon(color='white',icon_color=row['marker_color'])).add_to(marker_cluster)\nsite_map",
      "metadata": {
        "trusted": true
      },
      "execution_count": 14,
      "outputs": [
        {
          "ename": "<class 'KeyError'>",
          "evalue": "'marker_color'",
          "traceback": [
            "\u001b[0;31m---------------------------------------------------------------------------\u001b[0m",
            "\u001b[0;31mKeyError\u001b[0m                                  Traceback (most recent call last)",
            "File \u001b[0;32m/lib/python3.10/site-packages/pandas/core/indexes/base.py:3621\u001b[0m, in \u001b[0;36mIndex.get_loc\u001b[0;34m(self, key, method, tolerance)\u001b[0m\n\u001b[1;32m   3620\u001b[0m \u001b[38;5;28;01mtry\u001b[39;00m:\n\u001b[0;32m-> 3621\u001b[0m     \u001b[38;5;28;01mreturn\u001b[39;00m \u001b[38;5;28;43mself\u001b[39;49m\u001b[38;5;241;43m.\u001b[39;49m\u001b[43m_engine\u001b[49m\u001b[38;5;241;43m.\u001b[39;49m\u001b[43mget_loc\u001b[49m\u001b[43m(\u001b[49m\u001b[43mcasted_key\u001b[49m\u001b[43m)\u001b[49m\n\u001b[1;32m   3622\u001b[0m \u001b[38;5;28;01mexcept\u001b[39;00m \u001b[38;5;167;01mKeyError\u001b[39;00m \u001b[38;5;28;01mas\u001b[39;00m err:\n",
            "File \u001b[0;32m/lib/python3.10/site-packages/pandas/_libs/index.pyx:136\u001b[0m, in \u001b[0;36mpandas._libs.index.IndexEngine.get_loc\u001b[0;34m()\u001b[0m\n",
            "File \u001b[0;32m/lib/python3.10/site-packages/pandas/_libs/index.pyx:163\u001b[0m, in \u001b[0;36mpandas._libs.index.IndexEngine.get_loc\u001b[0;34m()\u001b[0m\n",
            "File \u001b[0;32mpandas/_libs/hashtable_class_helper.pxi:5198\u001b[0m, in \u001b[0;36mpandas._libs.hashtable.PyObjectHashTable.get_item\u001b[0;34m()\u001b[0m\n",
            "File \u001b[0;32mpandas/_libs/hashtable_class_helper.pxi:5206\u001b[0m, in \u001b[0;36mpandas._libs.hashtable.PyObjectHashTable.get_item\u001b[0;34m()\u001b[0m\n",
            "\u001b[0;31mKeyError\u001b[0m: 'marker_color'",
            "\nThe above exception was the direct cause of the following exception:\n",
            "\u001b[0;31mKeyError\u001b[0m                                  Traceback (most recent call last)",
            "Cell \u001b[0;32mIn[14], line 12\u001b[0m\n\u001b[1;32m      8\u001b[0m \u001b[38;5;28;01mfor\u001b[39;00m index, record \u001b[38;5;129;01min\u001b[39;00m spacex_df\u001b[38;5;241m.\u001b[39miterrows():\n\u001b[1;32m      9\u001b[0m     \u001b[38;5;66;03m# TODO: Create and add a Marker cluster to the site map\u001b[39;00m\n\u001b[1;32m     10\u001b[0m     \u001b[38;5;66;03m# marker = folium.Marker(...)\u001b[39;00m\n\u001b[1;32m     11\u001b[0m     coordinate \u001b[38;5;241m=\u001b[39m [row[\u001b[38;5;124m'\u001b[39m\u001b[38;5;124mLat\u001b[39m\u001b[38;5;124m'\u001b[39m], row[\u001b[38;5;124m'\u001b[39m\u001b[38;5;124mLong\u001b[39m\u001b[38;5;124m'\u001b[39m]]\n\u001b[0;32m---> 12\u001b[0m     folium\u001b[38;5;241m.\u001b[39mmap\u001b[38;5;241m.\u001b[39mMarker(coordinate, icon\u001b[38;5;241m=\u001b[39mfolium\u001b[38;5;241m.\u001b[39mIcon(color\u001b[38;5;241m=\u001b[39m\u001b[38;5;124m'\u001b[39m\u001b[38;5;124mwhite\u001b[39m\u001b[38;5;124m'\u001b[39m,icon_color\u001b[38;5;241m=\u001b[39m\u001b[43mrow\u001b[49m\u001b[43m[\u001b[49m\u001b[38;5;124;43m'\u001b[39;49m\u001b[38;5;124;43mmarker_color\u001b[39;49m\u001b[38;5;124;43m'\u001b[39;49m\u001b[43m]\u001b[49m))\u001b[38;5;241m.\u001b[39madd_to(marker_cluster)\n\u001b[1;32m     13\u001b[0m site_map\n",
            "File \u001b[0;32m/lib/python3.10/site-packages/pandas/core/series.py:958\u001b[0m, in \u001b[0;36mSeries.__getitem__\u001b[0;34m(self, key)\u001b[0m\n\u001b[1;32m    955\u001b[0m     \u001b[38;5;28;01mreturn\u001b[39;00m \u001b[38;5;28mself\u001b[39m\u001b[38;5;241m.\u001b[39m_values[key]\n\u001b[1;32m    957\u001b[0m \u001b[38;5;28;01melif\u001b[39;00m key_is_scalar:\n\u001b[0;32m--> 958\u001b[0m     \u001b[38;5;28;01mreturn\u001b[39;00m \u001b[38;5;28;43mself\u001b[39;49m\u001b[38;5;241;43m.\u001b[39;49m\u001b[43m_get_value\u001b[49m\u001b[43m(\u001b[49m\u001b[43mkey\u001b[49m\u001b[43m)\u001b[49m\n\u001b[1;32m    960\u001b[0m \u001b[38;5;28;01mif\u001b[39;00m is_hashable(key):\n\u001b[1;32m    961\u001b[0m     \u001b[38;5;66;03m# Otherwise index.get_value will raise InvalidIndexError\u001b[39;00m\n\u001b[1;32m    962\u001b[0m     \u001b[38;5;28;01mtry\u001b[39;00m:\n\u001b[1;32m    963\u001b[0m         \u001b[38;5;66;03m# For labels that don't resolve as scalars like tuples and frozensets\u001b[39;00m\n",
            "File \u001b[0;32m/lib/python3.10/site-packages/pandas/core/series.py:1069\u001b[0m, in \u001b[0;36mSeries._get_value\u001b[0;34m(self, label, takeable)\u001b[0m\n\u001b[1;32m   1066\u001b[0m     \u001b[38;5;28;01mreturn\u001b[39;00m \u001b[38;5;28mself\u001b[39m\u001b[38;5;241m.\u001b[39m_values[label]\n\u001b[1;32m   1068\u001b[0m \u001b[38;5;66;03m# Similar to Index.get_value, but we do not fall back to positional\u001b[39;00m\n\u001b[0;32m-> 1069\u001b[0m loc \u001b[38;5;241m=\u001b[39m \u001b[38;5;28;43mself\u001b[39;49m\u001b[38;5;241;43m.\u001b[39;49m\u001b[43mindex\u001b[49m\u001b[38;5;241;43m.\u001b[39;49m\u001b[43mget_loc\u001b[49m\u001b[43m(\u001b[49m\u001b[43mlabel\u001b[49m\u001b[43m)\u001b[49m\n\u001b[1;32m   1070\u001b[0m \u001b[38;5;28;01mreturn\u001b[39;00m \u001b[38;5;28mself\u001b[39m\u001b[38;5;241m.\u001b[39mindex\u001b[38;5;241m.\u001b[39m_get_values_for_loc(\u001b[38;5;28mself\u001b[39m, loc, label)\n",
            "File \u001b[0;32m/lib/python3.10/site-packages/pandas/core/indexes/base.py:3623\u001b[0m, in \u001b[0;36mIndex.get_loc\u001b[0;34m(self, key, method, tolerance)\u001b[0m\n\u001b[1;32m   3621\u001b[0m     \u001b[38;5;28;01mreturn\u001b[39;00m \u001b[38;5;28mself\u001b[39m\u001b[38;5;241m.\u001b[39m_engine\u001b[38;5;241m.\u001b[39mget_loc(casted_key)\n\u001b[1;32m   3622\u001b[0m \u001b[38;5;28;01mexcept\u001b[39;00m \u001b[38;5;167;01mKeyError\u001b[39;00m \u001b[38;5;28;01mas\u001b[39;00m err:\n\u001b[0;32m-> 3623\u001b[0m     \u001b[38;5;28;01mraise\u001b[39;00m \u001b[38;5;167;01mKeyError\u001b[39;00m(key) \u001b[38;5;28;01mfrom\u001b[39;00m \u001b[38;5;21;01merr\u001b[39;00m\n\u001b[1;32m   3624\u001b[0m \u001b[38;5;28;01mexcept\u001b[39;00m \u001b[38;5;167;01mTypeError\u001b[39;00m:\n\u001b[1;32m   3625\u001b[0m     \u001b[38;5;66;03m# If we have a listlike key, _check_indexing_error will raise\u001b[39;00m\n\u001b[1;32m   3626\u001b[0m     \u001b[38;5;66;03m#  InvalidIndexError. Otherwise we fall through and re-raise\u001b[39;00m\n\u001b[1;32m   3627\u001b[0m     \u001b[38;5;66;03m#  the TypeError.\u001b[39;00m\n\u001b[1;32m   3628\u001b[0m     \u001b[38;5;28mself\u001b[39m\u001b[38;5;241m.\u001b[39m_check_indexing_error(key)\n",
            "\u001b[0;31mKeyError\u001b[0m: 'marker_color'"
          ],
          "output_type": "error"
        }
      ]
    },
    {
      "cell_type": "markdown",
      "source": "Your updated map may look like the following screenshots:\n",
      "metadata": {}
    },
    {
      "cell_type": "markdown",
      "source": "<center>\n    <img src=\"https://cf-courses-data.s3.us.cloud-object-storage.appdomain.cloud/IBM-DS0321EN-SkillsNetwork/labs/module_3/images/launch_site_marker_cluster.png\">\n</center>\n",
      "metadata": {}
    },
    {
      "cell_type": "markdown",
      "source": "<center>\n    <img src=\"https://cf-courses-data.s3.us.cloud-object-storage.appdomain.cloud/IBM-DS0321EN-SkillsNetwork/labs/module_3/images/launch_site_marker_cluster_zoomed.png\">\n</center>\n",
      "metadata": {}
    },
    {
      "cell_type": "markdown",
      "source": "From the color-labeled markers in marker clusters, you should be able to easily identify which launch sites have relatively high success rates.\n",
      "metadata": {}
    },
    {
      "cell_type": "code",
      "source": "# TASK 3: Calculate the distances between a launch site to its proximities\n",
      "metadata": {
        "trusted": true
      },
      "execution_count": 15,
      "outputs": []
    },
    {
      "cell_type": "markdown",
      "source": "Next, we need to explore and analyze the proximities of launch sites.\n",
      "metadata": {}
    },
    {
      "cell_type": "markdown",
      "source": "Let's first add a `MousePosition` on the map to get coordinate for a mouse over a point on the map. As such, while you are exploring the map, you can easily find the coordinates of any points of interests (such as railway)\n",
      "metadata": {}
    },
    {
      "cell_type": "code",
      "source": "# Add Mouse Position to get the coordinate (Lat, Long) for a mouse over on the map\nformatter = \"function(num) {return L.Util.formatNum(num, 5);};\"\nmouse_position = MousePosition(\n    position='topright',\n    separator=' Long: ',\n    empty_string='NaN',\n    lng_first=False,\n    num_digits=20,\n    prefix='Lat:',\n    lat_formatter=formatter,\n    lng_formatter=formatter,\n)\n\nsite_map.add_child(mouse_position)\nsite_map",
      "metadata": {
        "trusted": true
      },
      "execution_count": 16,
      "outputs": [
        {
          "execution_count": 16,
          "output_type": "execute_result",
          "data": {
            "text/plain": "<folium.folium.Map at 0x42253c8>",
            "text/html": "<div style=\"width:100%;\"><div style=\"position:relative;width:100%;height:0;padding-bottom:60%;\"><span style=\"color:#565656\">Make this Notebook Trusted to load map: File -> Trust Notebook</span><iframe srcdoc=\"&lt;!DOCTYPE html&gt;\n&lt;html&gt;\n&lt;head&gt;\n    \n    &lt;meta http-equiv=&quot;content-type&quot; content=&quot;text/html; charset=UTF-8&quot; /&gt;\n    \n        &lt;script&gt;\n            L_NO_TOUCH = false;\n            L_DISABLE_3D = false;\n        &lt;/script&gt;\n    \n    &lt;style&gt;html, body {width: 100%;height: 100%;margin: 0;padding: 0;}&lt;/style&gt;\n    &lt;style&gt;#map {position:absolute;top:0;bottom:0;right:0;left:0;}&lt;/style&gt;\n    &lt;script src=&quot;https://cdn.jsdelivr.net/npm/leaflet@1.9.3/dist/leaflet.js&quot;&gt;&lt;/script&gt;\n    &lt;script src=&quot;https://code.jquery.com/jquery-1.12.4.min.js&quot;&gt;&lt;/script&gt;\n    &lt;script src=&quot;https://cdn.jsdelivr.net/npm/bootstrap@5.2.2/dist/js/bootstrap.bundle.min.js&quot;&gt;&lt;/script&gt;\n    &lt;script src=&quot;https://cdnjs.cloudflare.com/ajax/libs/Leaflet.awesome-markers/2.0.2/leaflet.awesome-markers.js&quot;&gt;&lt;/script&gt;\n    &lt;link rel=&quot;stylesheet&quot; href=&quot;https://cdn.jsdelivr.net/npm/leaflet@1.9.3/dist/leaflet.css&quot;/&gt;\n    &lt;link rel=&quot;stylesheet&quot; href=&quot;https://cdn.jsdelivr.net/npm/bootstrap@5.2.2/dist/css/bootstrap.min.css&quot;/&gt;\n    &lt;link rel=&quot;stylesheet&quot; href=&quot;https://netdna.bootstrapcdn.com/bootstrap/3.0.0/css/bootstrap.min.css&quot;/&gt;\n    &lt;link rel=&quot;stylesheet&quot; href=&quot;https://cdn.jsdelivr.net/npm/@fortawesome/fontawesome-free@6.2.0/css/all.min.css&quot;/&gt;\n    &lt;link rel=&quot;stylesheet&quot; href=&quot;https://cdnjs.cloudflare.com/ajax/libs/Leaflet.awesome-markers/2.0.2/leaflet.awesome-markers.css&quot;/&gt;\n    &lt;link rel=&quot;stylesheet&quot; href=&quot;https://cdn.jsdelivr.net/gh/python-visualization/folium/folium/templates/leaflet.awesome.rotate.min.css&quot;/&gt;\n    \n            &lt;meta name=&quot;viewport&quot; content=&quot;width=device-width,\n                initial-scale=1.0, maximum-scale=1.0, user-scalable=no&quot; /&gt;\n            &lt;style&gt;\n                #map_38ed1263d82d897c2a0e5893879193d8 {\n                    position: relative;\n                    width: 100.0%;\n                    height: 100.0%;\n                    left: 0.0%;\n                    top: 0.0%;\n                }\n                .leaflet-container { font-size: 1rem; }\n            &lt;/style&gt;\n        \n    &lt;script src=&quot;https://cdnjs.cloudflare.com/ajax/libs/leaflet.markercluster/1.1.0/leaflet.markercluster.js&quot;&gt;&lt;/script&gt;\n    &lt;link rel=&quot;stylesheet&quot; href=&quot;https://cdnjs.cloudflare.com/ajax/libs/leaflet.markercluster/1.1.0/MarkerCluster.css&quot;/&gt;\n    &lt;link rel=&quot;stylesheet&quot; href=&quot;https://cdnjs.cloudflare.com/ajax/libs/leaflet.markercluster/1.1.0/MarkerCluster.Default.css&quot;/&gt;\n    &lt;script src=&quot;https://cdn.jsdelivr.net/gh/ardhi/Leaflet.MousePosition/src/L.Control.MousePosition.min.js&quot;&gt;&lt;/script&gt;\n    &lt;link rel=&quot;stylesheet&quot; href=&quot;https://cdn.jsdelivr.net/gh/ardhi/Leaflet.MousePosition/src/L.Control.MousePosition.min.css&quot;/&gt;\n&lt;/head&gt;\n&lt;body&gt;\n    \n    \n            &lt;div class=&quot;folium-map&quot; id=&quot;map_38ed1263d82d897c2a0e5893879193d8&quot; &gt;&lt;/div&gt;\n        \n&lt;/body&gt;\n&lt;script&gt;\n    \n    \n            var map_38ed1263d82d897c2a0e5893879193d8 = L.map(\n                &quot;map_38ed1263d82d897c2a0e5893879193d8&quot;,\n                {\n                    center: [29.559684888503615, -95.0830971930759],\n                    crs: L.CRS.EPSG3857,\n                    zoom: 5,\n                    zoomControl: true,\n                    preferCanvas: false,\n                }\n            );\n\n            \n\n        \n    \n            var tile_layer_ce1fb1b9acbee3a6399779b2ccd81bb8 = L.tileLayer(\n                &quot;https://{s}.tile.openstreetmap.org/{z}/{x}/{y}.png&quot;,\n                {&quot;attribution&quot;: &quot;Data by \\u0026copy; \\u003ca target=\\&quot;_blank\\&quot; href=\\&quot;http://openstreetmap.org\\&quot;\\u003eOpenStreetMap\\u003c/a\\u003e, under \\u003ca target=\\&quot;_blank\\&quot; href=\\&quot;http://www.openstreetmap.org/copyright\\&quot;\\u003eODbL\\u003c/a\\u003e.&quot;, &quot;detectRetina&quot;: false, &quot;maxNativeZoom&quot;: 18, &quot;maxZoom&quot;: 18, &quot;minZoom&quot;: 0, &quot;noWrap&quot;: false, &quot;opacity&quot;: 1, &quot;subdomains&quot;: &quot;abc&quot;, &quot;tms&quot;: false}\n            ).addTo(map_38ed1263d82d897c2a0e5893879193d8);\n        \n    \n            var circle_a6d321a1ba701069111310dbf5f1897f = L.circle(\n                [28.56230197, -80.57735648],\n                {&quot;bubblingMouseEvents&quot;: true, &quot;color&quot;: &quot;#000000&quot;, &quot;dashArray&quot;: null, &quot;dashOffset&quot;: null, &quot;fill&quot;: true, &quot;fillColor&quot;: &quot;#000000&quot;, &quot;fillOpacity&quot;: 0.2, &quot;fillRule&quot;: &quot;evenodd&quot;, &quot;lineCap&quot;: &quot;round&quot;, &quot;lineJoin&quot;: &quot;round&quot;, &quot;opacity&quot;: 1.0, &quot;radius&quot;: 1000, &quot;stroke&quot;: true, &quot;weight&quot;: 3}\n            ).addTo(map_38ed1263d82d897c2a0e5893879193d8);\n        \n    \n        var popup_aaa8239143ddda3cabe08d03d3c30f10 = L.popup({&quot;maxWidth&quot;: &quot;100%&quot;});\n\n        \n            \n                var html_3b5e9432e702c74950c1a187c0fa75ee = $(`&lt;div id=&quot;html_3b5e9432e702c74950c1a187c0fa75ee&quot; style=&quot;width: 100.0%; height: 100.0%;&quot;&gt;CCAFS LC-40&lt;/div&gt;`)[0];\n                popup_aaa8239143ddda3cabe08d03d3c30f10.setContent(html_3b5e9432e702c74950c1a187c0fa75ee);\n            \n        \n\n        circle_a6d321a1ba701069111310dbf5f1897f.bindPopup(popup_aaa8239143ddda3cabe08d03d3c30f10)\n        ;\n\n        \n    \n    \n            var marker_6daa4060cca1cc93aa2a9f1a1d340d95 = L.marker(\n                [28.56230197, -80.57735648],\n                {}\n            ).addTo(map_38ed1263d82d897c2a0e5893879193d8);\n        \n    \n            var div_icon_a80e1f58701679d64bc2d296a3ef85e6 = L.divIcon({&quot;className&quot;: &quot;empty&quot;, &quot;html&quot;: &quot;\\u003cdiv style=\\&quot;font-size: 12; color:#d35400;\\&quot;\\u003e\\u003cb\\u003eCCAFS LC-40\\u003c/b\\u003e\\u003c/div\\u003e&quot;, &quot;iconAnchor&quot;: [0, 0], &quot;iconSize&quot;: [20, 20]});\n            marker_6daa4060cca1cc93aa2a9f1a1d340d95.setIcon(div_icon_a80e1f58701679d64bc2d296a3ef85e6);\n        \n    \n            var circle_fd0b70c5004ceaa591864b1ee3a30b09 = L.circle(\n                [28.56319718, -80.57682003],\n                {&quot;bubblingMouseEvents&quot;: true, &quot;color&quot;: &quot;#000000&quot;, &quot;dashArray&quot;: null, &quot;dashOffset&quot;: null, &quot;fill&quot;: true, &quot;fillColor&quot;: &quot;#000000&quot;, &quot;fillOpacity&quot;: 0.2, &quot;fillRule&quot;: &quot;evenodd&quot;, &quot;lineCap&quot;: &quot;round&quot;, &quot;lineJoin&quot;: &quot;round&quot;, &quot;opacity&quot;: 1.0, &quot;radius&quot;: 1000, &quot;stroke&quot;: true, &quot;weight&quot;: 3}\n            ).addTo(map_38ed1263d82d897c2a0e5893879193d8);\n        \n    \n        var popup_02d6f1d7b95b474287e88ece1216a1ff = L.popup({&quot;maxWidth&quot;: &quot;100%&quot;});\n\n        \n            \n                var html_da7cf9b8d484817be9c5d382d0456f43 = $(`&lt;div id=&quot;html_da7cf9b8d484817be9c5d382d0456f43&quot; style=&quot;width: 100.0%; height: 100.0%;&quot;&gt;CCAFS SLC-40&lt;/div&gt;`)[0];\n                popup_02d6f1d7b95b474287e88ece1216a1ff.setContent(html_da7cf9b8d484817be9c5d382d0456f43);\n            \n        \n\n        circle_fd0b70c5004ceaa591864b1ee3a30b09.bindPopup(popup_02d6f1d7b95b474287e88ece1216a1ff)\n        ;\n\n        \n    \n    \n            var marker_18cd00189f8c7893ab8c31dc45f0ec14 = L.marker(\n                [28.56319718, -80.57682003],\n                {}\n            ).addTo(map_38ed1263d82d897c2a0e5893879193d8);\n        \n    \n            var div_icon_23b2885afee89b36fe0d5ddc290ca6e9 = L.divIcon({&quot;className&quot;: &quot;empty&quot;, &quot;html&quot;: &quot;\\u003cdiv style=\\&quot;font-size: 12; color:#d35400;\\&quot;\\u003e\\u003cb\\u003eCCAFS SLC-40\\u003c/b\\u003e\\u003c/div\\u003e&quot;, &quot;iconAnchor&quot;: [0, 0], &quot;iconSize&quot;: [20, 20]});\n            marker_18cd00189f8c7893ab8c31dc45f0ec14.setIcon(div_icon_23b2885afee89b36fe0d5ddc290ca6e9);\n        \n    \n            var circle_6e8cc6c24e147e73ad0db3236576fbf0 = L.circle(\n                [28.57325457, -80.64689529],\n                {&quot;bubblingMouseEvents&quot;: true, &quot;color&quot;: &quot;#000000&quot;, &quot;dashArray&quot;: null, &quot;dashOffset&quot;: null, &quot;fill&quot;: true, &quot;fillColor&quot;: &quot;#000000&quot;, &quot;fillOpacity&quot;: 0.2, &quot;fillRule&quot;: &quot;evenodd&quot;, &quot;lineCap&quot;: &quot;round&quot;, &quot;lineJoin&quot;: &quot;round&quot;, &quot;opacity&quot;: 1.0, &quot;radius&quot;: 1000, &quot;stroke&quot;: true, &quot;weight&quot;: 3}\n            ).addTo(map_38ed1263d82d897c2a0e5893879193d8);\n        \n    \n        var popup_eee2021528415e22d22fcf2733654bbb = L.popup({&quot;maxWidth&quot;: &quot;100%&quot;});\n\n        \n            \n                var html_28862242d3441c149bd0e84666302ce8 = $(`&lt;div id=&quot;html_28862242d3441c149bd0e84666302ce8&quot; style=&quot;width: 100.0%; height: 100.0%;&quot;&gt;KSC LC-39A&lt;/div&gt;`)[0];\n                popup_eee2021528415e22d22fcf2733654bbb.setContent(html_28862242d3441c149bd0e84666302ce8);\n            \n        \n\n        circle_6e8cc6c24e147e73ad0db3236576fbf0.bindPopup(popup_eee2021528415e22d22fcf2733654bbb)\n        ;\n\n        \n    \n    \n            var marker_d98adcab17c23aad3fcfaa630ff56921 = L.marker(\n                [28.57325457, -80.64689529],\n                {}\n            ).addTo(map_38ed1263d82d897c2a0e5893879193d8);\n        \n    \n            var div_icon_8dafde8b5a968744166c77b83a0898c8 = L.divIcon({&quot;className&quot;: &quot;empty&quot;, &quot;html&quot;: &quot;\\u003cdiv style=\\&quot;font-size: 12; color:#d35400;\\&quot;\\u003e\\u003cb\\u003eKSC LC-39A\\u003c/b\\u003e\\u003c/div\\u003e&quot;, &quot;iconAnchor&quot;: [0, 0], &quot;iconSize&quot;: [20, 20]});\n            marker_d98adcab17c23aad3fcfaa630ff56921.setIcon(div_icon_8dafde8b5a968744166c77b83a0898c8);\n        \n    \n            var circle_2734ac5c3ac06bb4153a80cbfcf1f67c = L.circle(\n                [34.63283416, -120.6107455],\n                {&quot;bubblingMouseEvents&quot;: true, &quot;color&quot;: &quot;#000000&quot;, &quot;dashArray&quot;: null, &quot;dashOffset&quot;: null, &quot;fill&quot;: true, &quot;fillColor&quot;: &quot;#000000&quot;, &quot;fillOpacity&quot;: 0.2, &quot;fillRule&quot;: &quot;evenodd&quot;, &quot;lineCap&quot;: &quot;round&quot;, &quot;lineJoin&quot;: &quot;round&quot;, &quot;opacity&quot;: 1.0, &quot;radius&quot;: 1000, &quot;stroke&quot;: true, &quot;weight&quot;: 3}\n            ).addTo(map_38ed1263d82d897c2a0e5893879193d8);\n        \n    \n        var popup_ae89239a619c0799657a889d4c9412ef = L.popup({&quot;maxWidth&quot;: &quot;100%&quot;});\n\n        \n            \n                var html_fcc8aecd292a7beeabe993f7abc88cf0 = $(`&lt;div id=&quot;html_fcc8aecd292a7beeabe993f7abc88cf0&quot; style=&quot;width: 100.0%; height: 100.0%;&quot;&gt;VAFB SLC-4E&lt;/div&gt;`)[0];\n                popup_ae89239a619c0799657a889d4c9412ef.setContent(html_fcc8aecd292a7beeabe993f7abc88cf0);\n            \n        \n\n        circle_2734ac5c3ac06bb4153a80cbfcf1f67c.bindPopup(popup_ae89239a619c0799657a889d4c9412ef)\n        ;\n\n        \n    \n    \n            var marker_2e0d6747fb58ffb466f8f3a18cf52bdc = L.marker(\n                [34.63283416, -120.6107455],\n                {}\n            ).addTo(map_38ed1263d82d897c2a0e5893879193d8);\n        \n    \n            var div_icon_481b834b4abaacc80f041ab331b4adfe = L.divIcon({&quot;className&quot;: &quot;empty&quot;, &quot;html&quot;: &quot;\\u003cdiv style=\\&quot;font-size: 12; color:#d35400;\\&quot;\\u003e\\u003cb\\u003eVAFB SLC-4E\\u003c/b\\u003e\\u003c/div\\u003e&quot;, &quot;iconAnchor&quot;: [0, 0], &quot;iconSize&quot;: [20, 20]});\n            marker_2e0d6747fb58ffb466f8f3a18cf52bdc.setIcon(div_icon_481b834b4abaacc80f041ab331b4adfe);\n        \n    \n            var marker_cluster_0271ef49173f5b980486d6c64b4a2630 = L.markerClusterGroup(\n                {}\n            );\n            map_38ed1263d82d897c2a0e5893879193d8.addLayer(marker_cluster_0271ef49173f5b980486d6c64b4a2630);\n        \n    \n            var mouse_position_8c96db04cbc39c5ad1df8f46fc064bb7 = new L.Control.MousePosition(\n                {&quot;emptyString&quot;: &quot;NaN&quot;, &quot;lngFirst&quot;: false, &quot;numDigits&quot;: 20, &quot;position&quot;: &quot;topright&quot;, &quot;prefix&quot;: &quot;Lat:&quot;, &quot;separator&quot;: &quot; Long: &quot;}\n            );\n            mouse_position_8c96db04cbc39c5ad1df8f46fc064bb7.options[&quot;latFormatter&quot;] =\n                function(num) {return L.Util.formatNum(num, 5);};;\n            mouse_position_8c96db04cbc39c5ad1df8f46fc064bb7.options[&quot;lngFormatter&quot;] =\n                function(num) {return L.Util.formatNum(num, 5);};;\n            map_38ed1263d82d897c2a0e5893879193d8.addControl(mouse_position_8c96db04cbc39c5ad1df8f46fc064bb7);\n        \n&lt;/script&gt;\n&lt;/html&gt;\" style=\"position:absolute;width:100%;height:100%;left:0;top:0;border:none !important;\" allowfullscreen webkitallowfullscreen mozallowfullscreen></iframe></div></div>"
          },
          "metadata": {}
        }
      ]
    },
    {
      "cell_type": "markdown",
      "source": "Now zoom in to a launch site and explore its proximity to see if you can easily find any railway, highway, coastline, etc. Move your mouse to these points and mark down their coordinates (shown on the top-left) in order to the distance to the launch site.\n",
      "metadata": {}
    },
    {
      "cell_type": "markdown",
      "source": "Now zoom in to a launch site and explore its proximity to see if you can easily find any railway, highway, coastline, etc. Move your mouse to these points and mark down their coordinates (shown on the top-left) in order to the distance to the launch site.\n",
      "metadata": {}
    },
    {
      "cell_type": "code",
      "source": "from math import sin, cos, sqrt, atan2, radians\n\ndef calculate_distance(lat1, lon1, lat2, lon2):\n    # approximate radius of earth in km\n    R = 6373.0\n\n    lat1 = radians(lat1)\n    lon1 = radians(lon1)\n    lat2 = radians(lat2)\n    lon2 = radians(lon2)\n\n    dlon = lon2 - lon1\n    dlat = lat2 - lat1\n\n    a = sin(dlat / 2)**2 + cos(lat1) * cos(lat2) * sin(dlon / 2)**2\n    c = 2 * atan2(sqrt(a), sqrt(1 - a))\n\n    distance = R * c\n    return distance",
      "metadata": {
        "trusted": true
      },
      "execution_count": 17,
      "outputs": []
    },
    {
      "cell_type": "markdown",
      "source": "*TODO:* Mark down a point on the closest coastline using MousePosition and calculate the distance between the coastline point and the launch site.\n",
      "metadata": {}
    },
    {
      "cell_type": "code",
      "source": "# find coordinate of the closet coastline\n# e.g.,: Lat: 28.56367  Lon: -80.57163\n# distance_coastline = calculate_distance(launch_site_lat, launch_site_lon, coastline_lat, coastline_lon)\nlaunch_site_lat = 28.563197\nlaunch_site_lon = -80.576820\ncoastline_lat = 28.56334\ncoastline_lon = -80.56799\ndistance_coastline = calculate_distance(launch_site_lat, launch_site_lon, coastline_lat, coastline_lon)\nprint(distance_coastline,' km')",
      "metadata": {
        "trusted": true
      },
      "execution_count": 18,
      "outputs": [
        {
          "name": "stdout",
          "text": "0.8627671182499878  km\n",
          "output_type": "stream"
        }
      ]
    },
    {
      "cell_type": "code",
      "source": "# Create and add a folium.Marker on your selected closest coastline point on the map\n# Display the distance between coastline point and launch site using the icon property \n# for example\n# distance_marker = folium.Marker(\n#    coordinate,\n#    icon=DivIcon(\n#        icon_size=(20,20),\n#        icon_anchor=(0,0),\n#        html='<div style=\"font-size: 12; color:#d35400;\"><b>%s</b></div>' % \"{:10.2f} KM\".format(distance),\n#        )\n#    )\ndistance_marker = folium.Marker(\n   [coastline_lat, coastline_lon],\n   icon=DivIcon(\n       icon_size=(20,20),\n       icon_anchor=(0,0),\n       html='<div style=\"font-size: 12; color:#d35400;\"><b>%s</b></div>' % \"{:10.2f} KM\".format(distance_coastline),\n       )\n   )\nsite_map.add_child(distance_marker)",
      "metadata": {
        "trusted": true
      },
      "execution_count": 19,
      "outputs": [
        {
          "execution_count": 19,
          "output_type": "execute_result",
          "data": {
            "text/plain": "<folium.folium.Map at 0x42253c8>",
            "text/html": "<div style=\"width:100%;\"><div style=\"position:relative;width:100%;height:0;padding-bottom:60%;\"><span style=\"color:#565656\">Make this Notebook Trusted to load map: File -> Trust Notebook</span><iframe srcdoc=\"&lt;!DOCTYPE html&gt;\n&lt;html&gt;\n&lt;head&gt;\n    \n    &lt;meta http-equiv=&quot;content-type&quot; content=&quot;text/html; charset=UTF-8&quot; /&gt;\n    \n        &lt;script&gt;\n            L_NO_TOUCH = false;\n            L_DISABLE_3D = false;\n        &lt;/script&gt;\n    \n    &lt;style&gt;html, body {width: 100%;height: 100%;margin: 0;padding: 0;}&lt;/style&gt;\n    &lt;style&gt;#map {position:absolute;top:0;bottom:0;right:0;left:0;}&lt;/style&gt;\n    &lt;script src=&quot;https://cdn.jsdelivr.net/npm/leaflet@1.9.3/dist/leaflet.js&quot;&gt;&lt;/script&gt;\n    &lt;script src=&quot;https://code.jquery.com/jquery-1.12.4.min.js&quot;&gt;&lt;/script&gt;\n    &lt;script src=&quot;https://cdn.jsdelivr.net/npm/bootstrap@5.2.2/dist/js/bootstrap.bundle.min.js&quot;&gt;&lt;/script&gt;\n    &lt;script src=&quot;https://cdnjs.cloudflare.com/ajax/libs/Leaflet.awesome-markers/2.0.2/leaflet.awesome-markers.js&quot;&gt;&lt;/script&gt;\n    &lt;link rel=&quot;stylesheet&quot; href=&quot;https://cdn.jsdelivr.net/npm/leaflet@1.9.3/dist/leaflet.css&quot;/&gt;\n    &lt;link rel=&quot;stylesheet&quot; href=&quot;https://cdn.jsdelivr.net/npm/bootstrap@5.2.2/dist/css/bootstrap.min.css&quot;/&gt;\n    &lt;link rel=&quot;stylesheet&quot; href=&quot;https://netdna.bootstrapcdn.com/bootstrap/3.0.0/css/bootstrap.min.css&quot;/&gt;\n    &lt;link rel=&quot;stylesheet&quot; href=&quot;https://cdn.jsdelivr.net/npm/@fortawesome/fontawesome-free@6.2.0/css/all.min.css&quot;/&gt;\n    &lt;link rel=&quot;stylesheet&quot; href=&quot;https://cdnjs.cloudflare.com/ajax/libs/Leaflet.awesome-markers/2.0.2/leaflet.awesome-markers.css&quot;/&gt;\n    &lt;link rel=&quot;stylesheet&quot; href=&quot;https://cdn.jsdelivr.net/gh/python-visualization/folium/folium/templates/leaflet.awesome.rotate.min.css&quot;/&gt;\n    \n            &lt;meta name=&quot;viewport&quot; content=&quot;width=device-width,\n                initial-scale=1.0, maximum-scale=1.0, user-scalable=no&quot; /&gt;\n            &lt;style&gt;\n                #map_38ed1263d82d897c2a0e5893879193d8 {\n                    position: relative;\n                    width: 100.0%;\n                    height: 100.0%;\n                    left: 0.0%;\n                    top: 0.0%;\n                }\n                .leaflet-container { font-size: 1rem; }\n            &lt;/style&gt;\n        \n    &lt;script src=&quot;https://cdnjs.cloudflare.com/ajax/libs/leaflet.markercluster/1.1.0/leaflet.markercluster.js&quot;&gt;&lt;/script&gt;\n    &lt;link rel=&quot;stylesheet&quot; href=&quot;https://cdnjs.cloudflare.com/ajax/libs/leaflet.markercluster/1.1.0/MarkerCluster.css&quot;/&gt;\n    &lt;link rel=&quot;stylesheet&quot; href=&quot;https://cdnjs.cloudflare.com/ajax/libs/leaflet.markercluster/1.1.0/MarkerCluster.Default.css&quot;/&gt;\n    &lt;script src=&quot;https://cdn.jsdelivr.net/gh/ardhi/Leaflet.MousePosition/src/L.Control.MousePosition.min.js&quot;&gt;&lt;/script&gt;\n    &lt;link rel=&quot;stylesheet&quot; href=&quot;https://cdn.jsdelivr.net/gh/ardhi/Leaflet.MousePosition/src/L.Control.MousePosition.min.css&quot;/&gt;\n&lt;/head&gt;\n&lt;body&gt;\n    \n    \n            &lt;div class=&quot;folium-map&quot; id=&quot;map_38ed1263d82d897c2a0e5893879193d8&quot; &gt;&lt;/div&gt;\n        \n&lt;/body&gt;\n&lt;script&gt;\n    \n    \n            var map_38ed1263d82d897c2a0e5893879193d8 = L.map(\n                &quot;map_38ed1263d82d897c2a0e5893879193d8&quot;,\n                {\n                    center: [29.559684888503615, -95.0830971930759],\n                    crs: L.CRS.EPSG3857,\n                    zoom: 5,\n                    zoomControl: true,\n                    preferCanvas: false,\n                }\n            );\n\n            \n\n        \n    \n            var tile_layer_ce1fb1b9acbee3a6399779b2ccd81bb8 = L.tileLayer(\n                &quot;https://{s}.tile.openstreetmap.org/{z}/{x}/{y}.png&quot;,\n                {&quot;attribution&quot;: &quot;Data by \\u0026copy; \\u003ca target=\\&quot;_blank\\&quot; href=\\&quot;http://openstreetmap.org\\&quot;\\u003eOpenStreetMap\\u003c/a\\u003e, under \\u003ca target=\\&quot;_blank\\&quot; href=\\&quot;http://www.openstreetmap.org/copyright\\&quot;\\u003eODbL\\u003c/a\\u003e.&quot;, &quot;detectRetina&quot;: false, &quot;maxNativeZoom&quot;: 18, &quot;maxZoom&quot;: 18, &quot;minZoom&quot;: 0, &quot;noWrap&quot;: false, &quot;opacity&quot;: 1, &quot;subdomains&quot;: &quot;abc&quot;, &quot;tms&quot;: false}\n            ).addTo(map_38ed1263d82d897c2a0e5893879193d8);\n        \n    \n            var circle_a6d321a1ba701069111310dbf5f1897f = L.circle(\n                [28.56230197, -80.57735648],\n                {&quot;bubblingMouseEvents&quot;: true, &quot;color&quot;: &quot;#000000&quot;, &quot;dashArray&quot;: null, &quot;dashOffset&quot;: null, &quot;fill&quot;: true, &quot;fillColor&quot;: &quot;#000000&quot;, &quot;fillOpacity&quot;: 0.2, &quot;fillRule&quot;: &quot;evenodd&quot;, &quot;lineCap&quot;: &quot;round&quot;, &quot;lineJoin&quot;: &quot;round&quot;, &quot;opacity&quot;: 1.0, &quot;radius&quot;: 1000, &quot;stroke&quot;: true, &quot;weight&quot;: 3}\n            ).addTo(map_38ed1263d82d897c2a0e5893879193d8);\n        \n    \n        var popup_aaa8239143ddda3cabe08d03d3c30f10 = L.popup({&quot;maxWidth&quot;: &quot;100%&quot;});\n\n        \n            \n                var html_3b5e9432e702c74950c1a187c0fa75ee = $(`&lt;div id=&quot;html_3b5e9432e702c74950c1a187c0fa75ee&quot; style=&quot;width: 100.0%; height: 100.0%;&quot;&gt;CCAFS LC-40&lt;/div&gt;`)[0];\n                popup_aaa8239143ddda3cabe08d03d3c30f10.setContent(html_3b5e9432e702c74950c1a187c0fa75ee);\n            \n        \n\n        circle_a6d321a1ba701069111310dbf5f1897f.bindPopup(popup_aaa8239143ddda3cabe08d03d3c30f10)\n        ;\n\n        \n    \n    \n            var marker_6daa4060cca1cc93aa2a9f1a1d340d95 = L.marker(\n                [28.56230197, -80.57735648],\n                {}\n            ).addTo(map_38ed1263d82d897c2a0e5893879193d8);\n        \n    \n            var div_icon_a80e1f58701679d64bc2d296a3ef85e6 = L.divIcon({&quot;className&quot;: &quot;empty&quot;, &quot;html&quot;: &quot;\\u003cdiv style=\\&quot;font-size: 12; color:#d35400;\\&quot;\\u003e\\u003cb\\u003eCCAFS LC-40\\u003c/b\\u003e\\u003c/div\\u003e&quot;, &quot;iconAnchor&quot;: [0, 0], &quot;iconSize&quot;: [20, 20]});\n            marker_6daa4060cca1cc93aa2a9f1a1d340d95.setIcon(div_icon_a80e1f58701679d64bc2d296a3ef85e6);\n        \n    \n            var circle_fd0b70c5004ceaa591864b1ee3a30b09 = L.circle(\n                [28.56319718, -80.57682003],\n                {&quot;bubblingMouseEvents&quot;: true, &quot;color&quot;: &quot;#000000&quot;, &quot;dashArray&quot;: null, &quot;dashOffset&quot;: null, &quot;fill&quot;: true, &quot;fillColor&quot;: &quot;#000000&quot;, &quot;fillOpacity&quot;: 0.2, &quot;fillRule&quot;: &quot;evenodd&quot;, &quot;lineCap&quot;: &quot;round&quot;, &quot;lineJoin&quot;: &quot;round&quot;, &quot;opacity&quot;: 1.0, &quot;radius&quot;: 1000, &quot;stroke&quot;: true, &quot;weight&quot;: 3}\n            ).addTo(map_38ed1263d82d897c2a0e5893879193d8);\n        \n    \n        var popup_02d6f1d7b95b474287e88ece1216a1ff = L.popup({&quot;maxWidth&quot;: &quot;100%&quot;});\n\n        \n            \n                var html_da7cf9b8d484817be9c5d382d0456f43 = $(`&lt;div id=&quot;html_da7cf9b8d484817be9c5d382d0456f43&quot; style=&quot;width: 100.0%; height: 100.0%;&quot;&gt;CCAFS SLC-40&lt;/div&gt;`)[0];\n                popup_02d6f1d7b95b474287e88ece1216a1ff.setContent(html_da7cf9b8d484817be9c5d382d0456f43);\n            \n        \n\n        circle_fd0b70c5004ceaa591864b1ee3a30b09.bindPopup(popup_02d6f1d7b95b474287e88ece1216a1ff)\n        ;\n\n        \n    \n    \n            var marker_18cd00189f8c7893ab8c31dc45f0ec14 = L.marker(\n                [28.56319718, -80.57682003],\n                {}\n            ).addTo(map_38ed1263d82d897c2a0e5893879193d8);\n        \n    \n            var div_icon_23b2885afee89b36fe0d5ddc290ca6e9 = L.divIcon({&quot;className&quot;: &quot;empty&quot;, &quot;html&quot;: &quot;\\u003cdiv style=\\&quot;font-size: 12; color:#d35400;\\&quot;\\u003e\\u003cb\\u003eCCAFS SLC-40\\u003c/b\\u003e\\u003c/div\\u003e&quot;, &quot;iconAnchor&quot;: [0, 0], &quot;iconSize&quot;: [20, 20]});\n            marker_18cd00189f8c7893ab8c31dc45f0ec14.setIcon(div_icon_23b2885afee89b36fe0d5ddc290ca6e9);\n        \n    \n            var circle_6e8cc6c24e147e73ad0db3236576fbf0 = L.circle(\n                [28.57325457, -80.64689529],\n                {&quot;bubblingMouseEvents&quot;: true, &quot;color&quot;: &quot;#000000&quot;, &quot;dashArray&quot;: null, &quot;dashOffset&quot;: null, &quot;fill&quot;: true, &quot;fillColor&quot;: &quot;#000000&quot;, &quot;fillOpacity&quot;: 0.2, &quot;fillRule&quot;: &quot;evenodd&quot;, &quot;lineCap&quot;: &quot;round&quot;, &quot;lineJoin&quot;: &quot;round&quot;, &quot;opacity&quot;: 1.0, &quot;radius&quot;: 1000, &quot;stroke&quot;: true, &quot;weight&quot;: 3}\n            ).addTo(map_38ed1263d82d897c2a0e5893879193d8);\n        \n    \n        var popup_eee2021528415e22d22fcf2733654bbb = L.popup({&quot;maxWidth&quot;: &quot;100%&quot;});\n\n        \n            \n                var html_28862242d3441c149bd0e84666302ce8 = $(`&lt;div id=&quot;html_28862242d3441c149bd0e84666302ce8&quot; style=&quot;width: 100.0%; height: 100.0%;&quot;&gt;KSC LC-39A&lt;/div&gt;`)[0];\n                popup_eee2021528415e22d22fcf2733654bbb.setContent(html_28862242d3441c149bd0e84666302ce8);\n            \n        \n\n        circle_6e8cc6c24e147e73ad0db3236576fbf0.bindPopup(popup_eee2021528415e22d22fcf2733654bbb)\n        ;\n\n        \n    \n    \n            var marker_d98adcab17c23aad3fcfaa630ff56921 = L.marker(\n                [28.57325457, -80.64689529],\n                {}\n            ).addTo(map_38ed1263d82d897c2a0e5893879193d8);\n        \n    \n            var div_icon_8dafde8b5a968744166c77b83a0898c8 = L.divIcon({&quot;className&quot;: &quot;empty&quot;, &quot;html&quot;: &quot;\\u003cdiv style=\\&quot;font-size: 12; color:#d35400;\\&quot;\\u003e\\u003cb\\u003eKSC LC-39A\\u003c/b\\u003e\\u003c/div\\u003e&quot;, &quot;iconAnchor&quot;: [0, 0], &quot;iconSize&quot;: [20, 20]});\n            marker_d98adcab17c23aad3fcfaa630ff56921.setIcon(div_icon_8dafde8b5a968744166c77b83a0898c8);\n        \n    \n            var circle_2734ac5c3ac06bb4153a80cbfcf1f67c = L.circle(\n                [34.63283416, -120.6107455],\n                {&quot;bubblingMouseEvents&quot;: true, &quot;color&quot;: &quot;#000000&quot;, &quot;dashArray&quot;: null, &quot;dashOffset&quot;: null, &quot;fill&quot;: true, &quot;fillColor&quot;: &quot;#000000&quot;, &quot;fillOpacity&quot;: 0.2, &quot;fillRule&quot;: &quot;evenodd&quot;, &quot;lineCap&quot;: &quot;round&quot;, &quot;lineJoin&quot;: &quot;round&quot;, &quot;opacity&quot;: 1.0, &quot;radius&quot;: 1000, &quot;stroke&quot;: true, &quot;weight&quot;: 3}\n            ).addTo(map_38ed1263d82d897c2a0e5893879193d8);\n        \n    \n        var popup_ae89239a619c0799657a889d4c9412ef = L.popup({&quot;maxWidth&quot;: &quot;100%&quot;});\n\n        \n            \n                var html_fcc8aecd292a7beeabe993f7abc88cf0 = $(`&lt;div id=&quot;html_fcc8aecd292a7beeabe993f7abc88cf0&quot; style=&quot;width: 100.0%; height: 100.0%;&quot;&gt;VAFB SLC-4E&lt;/div&gt;`)[0];\n                popup_ae89239a619c0799657a889d4c9412ef.setContent(html_fcc8aecd292a7beeabe993f7abc88cf0);\n            \n        \n\n        circle_2734ac5c3ac06bb4153a80cbfcf1f67c.bindPopup(popup_ae89239a619c0799657a889d4c9412ef)\n        ;\n\n        \n    \n    \n            var marker_2e0d6747fb58ffb466f8f3a18cf52bdc = L.marker(\n                [34.63283416, -120.6107455],\n                {}\n            ).addTo(map_38ed1263d82d897c2a0e5893879193d8);\n        \n    \n            var div_icon_481b834b4abaacc80f041ab331b4adfe = L.divIcon({&quot;className&quot;: &quot;empty&quot;, &quot;html&quot;: &quot;\\u003cdiv style=\\&quot;font-size: 12; color:#d35400;\\&quot;\\u003e\\u003cb\\u003eVAFB SLC-4E\\u003c/b\\u003e\\u003c/div\\u003e&quot;, &quot;iconAnchor&quot;: [0, 0], &quot;iconSize&quot;: [20, 20]});\n            marker_2e0d6747fb58ffb466f8f3a18cf52bdc.setIcon(div_icon_481b834b4abaacc80f041ab331b4adfe);\n        \n    \n            var marker_cluster_0271ef49173f5b980486d6c64b4a2630 = L.markerClusterGroup(\n                {}\n            );\n            map_38ed1263d82d897c2a0e5893879193d8.addLayer(marker_cluster_0271ef49173f5b980486d6c64b4a2630);\n        \n    \n            var mouse_position_8c96db04cbc39c5ad1df8f46fc064bb7 = new L.Control.MousePosition(\n                {&quot;emptyString&quot;: &quot;NaN&quot;, &quot;lngFirst&quot;: false, &quot;numDigits&quot;: 20, &quot;position&quot;: &quot;topright&quot;, &quot;prefix&quot;: &quot;Lat:&quot;, &quot;separator&quot;: &quot; Long: &quot;}\n            );\n            mouse_position_8c96db04cbc39c5ad1df8f46fc064bb7.options[&quot;latFormatter&quot;] =\n                function(num) {return L.Util.formatNum(num, 5);};;\n            mouse_position_8c96db04cbc39c5ad1df8f46fc064bb7.options[&quot;lngFormatter&quot;] =\n                function(num) {return L.Util.formatNum(num, 5);};;\n            map_38ed1263d82d897c2a0e5893879193d8.addControl(mouse_position_8c96db04cbc39c5ad1df8f46fc064bb7);\n        \n    \n            var marker_c3173c2a80a6a8acb85e64211bbb6bdc = L.marker(\n                [28.56334, -80.56799],\n                {}\n            ).addTo(map_38ed1263d82d897c2a0e5893879193d8);\n        \n    \n            var div_icon_395e189e9d2b0486d24d092536c4b838 = L.divIcon({&quot;className&quot;: &quot;empty&quot;, &quot;html&quot;: &quot;\\u003cdiv style=\\&quot;font-size: 12; color:#d35400;\\&quot;\\u003e\\u003cb\\u003e      0.86 KM\\u003c/b\\u003e\\u003c/div\\u003e&quot;, &quot;iconAnchor&quot;: [0, 0], &quot;iconSize&quot;: [20, 20]});\n            marker_c3173c2a80a6a8acb85e64211bbb6bdc.setIcon(div_icon_395e189e9d2b0486d24d092536c4b838);\n        \n&lt;/script&gt;\n&lt;/html&gt;\" style=\"position:absolute;width:100%;height:100%;left:0;top:0;border:none !important;\" allowfullscreen webkitallowfullscreen mozallowfullscreen></iframe></div></div>"
          },
          "metadata": {}
        }
      ]
    },
    {
      "cell_type": "markdown",
      "source": "*TODO:* Draw a `PolyLine` between a launch site to the selected coastline point\n",
      "metadata": {}
    },
    {
      "cell_type": "code",
      "source": "# Create a `folium.PolyLine` object using the coastline coordinates and launch site coordinate\n# lines=folium.PolyLine(locations=coordinates, weight=1)\n\ncoordinates = [[launch_site_lat,launch_site_lon],[coastline_lat,coastline_lon]]\nlines=folium.PolyLine(locations=coordinates, weight=1)\nsite_map.add_child(lines)\n",
      "metadata": {
        "trusted": true
      },
      "execution_count": 20,
      "outputs": [
        {
          "execution_count": 20,
          "output_type": "execute_result",
          "data": {
            "text/plain": "<folium.folium.Map at 0x42253c8>",
            "text/html": "<div style=\"width:100%;\"><div style=\"position:relative;width:100%;height:0;padding-bottom:60%;\"><span style=\"color:#565656\">Make this Notebook Trusted to load map: File -> Trust Notebook</span><iframe srcdoc=\"&lt;!DOCTYPE html&gt;\n&lt;html&gt;\n&lt;head&gt;\n    \n    &lt;meta http-equiv=&quot;content-type&quot; content=&quot;text/html; charset=UTF-8&quot; /&gt;\n    \n        &lt;script&gt;\n            L_NO_TOUCH = false;\n            L_DISABLE_3D = false;\n        &lt;/script&gt;\n    \n    &lt;style&gt;html, body {width: 100%;height: 100%;margin: 0;padding: 0;}&lt;/style&gt;\n    &lt;style&gt;#map {position:absolute;top:0;bottom:0;right:0;left:0;}&lt;/style&gt;\n    &lt;script src=&quot;https://cdn.jsdelivr.net/npm/leaflet@1.9.3/dist/leaflet.js&quot;&gt;&lt;/script&gt;\n    &lt;script src=&quot;https://code.jquery.com/jquery-1.12.4.min.js&quot;&gt;&lt;/script&gt;\n    &lt;script src=&quot;https://cdn.jsdelivr.net/npm/bootstrap@5.2.2/dist/js/bootstrap.bundle.min.js&quot;&gt;&lt;/script&gt;\n    &lt;script src=&quot;https://cdnjs.cloudflare.com/ajax/libs/Leaflet.awesome-markers/2.0.2/leaflet.awesome-markers.js&quot;&gt;&lt;/script&gt;\n    &lt;link rel=&quot;stylesheet&quot; href=&quot;https://cdn.jsdelivr.net/npm/leaflet@1.9.3/dist/leaflet.css&quot;/&gt;\n    &lt;link rel=&quot;stylesheet&quot; href=&quot;https://cdn.jsdelivr.net/npm/bootstrap@5.2.2/dist/css/bootstrap.min.css&quot;/&gt;\n    &lt;link rel=&quot;stylesheet&quot; href=&quot;https://netdna.bootstrapcdn.com/bootstrap/3.0.0/css/bootstrap.min.css&quot;/&gt;\n    &lt;link rel=&quot;stylesheet&quot; href=&quot;https://cdn.jsdelivr.net/npm/@fortawesome/fontawesome-free@6.2.0/css/all.min.css&quot;/&gt;\n    &lt;link rel=&quot;stylesheet&quot; href=&quot;https://cdnjs.cloudflare.com/ajax/libs/Leaflet.awesome-markers/2.0.2/leaflet.awesome-markers.css&quot;/&gt;\n    &lt;link rel=&quot;stylesheet&quot; href=&quot;https://cdn.jsdelivr.net/gh/python-visualization/folium/folium/templates/leaflet.awesome.rotate.min.css&quot;/&gt;\n    \n            &lt;meta name=&quot;viewport&quot; content=&quot;width=device-width,\n                initial-scale=1.0, maximum-scale=1.0, user-scalable=no&quot; /&gt;\n            &lt;style&gt;\n                #map_38ed1263d82d897c2a0e5893879193d8 {\n                    position: relative;\n                    width: 100.0%;\n                    height: 100.0%;\n                    left: 0.0%;\n                    top: 0.0%;\n                }\n                .leaflet-container { font-size: 1rem; }\n            &lt;/style&gt;\n        \n    &lt;script src=&quot;https://cdnjs.cloudflare.com/ajax/libs/leaflet.markercluster/1.1.0/leaflet.markercluster.js&quot;&gt;&lt;/script&gt;\n    &lt;link rel=&quot;stylesheet&quot; href=&quot;https://cdnjs.cloudflare.com/ajax/libs/leaflet.markercluster/1.1.0/MarkerCluster.css&quot;/&gt;\n    &lt;link rel=&quot;stylesheet&quot; href=&quot;https://cdnjs.cloudflare.com/ajax/libs/leaflet.markercluster/1.1.0/MarkerCluster.Default.css&quot;/&gt;\n    &lt;script src=&quot;https://cdn.jsdelivr.net/gh/ardhi/Leaflet.MousePosition/src/L.Control.MousePosition.min.js&quot;&gt;&lt;/script&gt;\n    &lt;link rel=&quot;stylesheet&quot; href=&quot;https://cdn.jsdelivr.net/gh/ardhi/Leaflet.MousePosition/src/L.Control.MousePosition.min.css&quot;/&gt;\n&lt;/head&gt;\n&lt;body&gt;\n    \n    \n            &lt;div class=&quot;folium-map&quot; id=&quot;map_38ed1263d82d897c2a0e5893879193d8&quot; &gt;&lt;/div&gt;\n        \n&lt;/body&gt;\n&lt;script&gt;\n    \n    \n            var map_38ed1263d82d897c2a0e5893879193d8 = L.map(\n                &quot;map_38ed1263d82d897c2a0e5893879193d8&quot;,\n                {\n                    center: [29.559684888503615, -95.0830971930759],\n                    crs: L.CRS.EPSG3857,\n                    zoom: 5,\n                    zoomControl: true,\n                    preferCanvas: false,\n                }\n            );\n\n            \n\n        \n    \n            var tile_layer_ce1fb1b9acbee3a6399779b2ccd81bb8 = L.tileLayer(\n                &quot;https://{s}.tile.openstreetmap.org/{z}/{x}/{y}.png&quot;,\n                {&quot;attribution&quot;: &quot;Data by \\u0026copy; \\u003ca target=\\&quot;_blank\\&quot; href=\\&quot;http://openstreetmap.org\\&quot;\\u003eOpenStreetMap\\u003c/a\\u003e, under \\u003ca target=\\&quot;_blank\\&quot; href=\\&quot;http://www.openstreetmap.org/copyright\\&quot;\\u003eODbL\\u003c/a\\u003e.&quot;, &quot;detectRetina&quot;: false, &quot;maxNativeZoom&quot;: 18, &quot;maxZoom&quot;: 18, &quot;minZoom&quot;: 0, &quot;noWrap&quot;: false, &quot;opacity&quot;: 1, &quot;subdomains&quot;: &quot;abc&quot;, &quot;tms&quot;: false}\n            ).addTo(map_38ed1263d82d897c2a0e5893879193d8);\n        \n    \n            var circle_a6d321a1ba701069111310dbf5f1897f = L.circle(\n                [28.56230197, -80.57735648],\n                {&quot;bubblingMouseEvents&quot;: true, &quot;color&quot;: &quot;#000000&quot;, &quot;dashArray&quot;: null, &quot;dashOffset&quot;: null, &quot;fill&quot;: true, &quot;fillColor&quot;: &quot;#000000&quot;, &quot;fillOpacity&quot;: 0.2, &quot;fillRule&quot;: &quot;evenodd&quot;, &quot;lineCap&quot;: &quot;round&quot;, &quot;lineJoin&quot;: &quot;round&quot;, &quot;opacity&quot;: 1.0, &quot;radius&quot;: 1000, &quot;stroke&quot;: true, &quot;weight&quot;: 3}\n            ).addTo(map_38ed1263d82d897c2a0e5893879193d8);\n        \n    \n        var popup_aaa8239143ddda3cabe08d03d3c30f10 = L.popup({&quot;maxWidth&quot;: &quot;100%&quot;});\n\n        \n            \n                var html_3b5e9432e702c74950c1a187c0fa75ee = $(`&lt;div id=&quot;html_3b5e9432e702c74950c1a187c0fa75ee&quot; style=&quot;width: 100.0%; height: 100.0%;&quot;&gt;CCAFS LC-40&lt;/div&gt;`)[0];\n                popup_aaa8239143ddda3cabe08d03d3c30f10.setContent(html_3b5e9432e702c74950c1a187c0fa75ee);\n            \n        \n\n        circle_a6d321a1ba701069111310dbf5f1897f.bindPopup(popup_aaa8239143ddda3cabe08d03d3c30f10)\n        ;\n\n        \n    \n    \n            var marker_6daa4060cca1cc93aa2a9f1a1d340d95 = L.marker(\n                [28.56230197, -80.57735648],\n                {}\n            ).addTo(map_38ed1263d82d897c2a0e5893879193d8);\n        \n    \n            var div_icon_a80e1f58701679d64bc2d296a3ef85e6 = L.divIcon({&quot;className&quot;: &quot;empty&quot;, &quot;html&quot;: &quot;\\u003cdiv style=\\&quot;font-size: 12; color:#d35400;\\&quot;\\u003e\\u003cb\\u003eCCAFS LC-40\\u003c/b\\u003e\\u003c/div\\u003e&quot;, &quot;iconAnchor&quot;: [0, 0], &quot;iconSize&quot;: [20, 20]});\n            marker_6daa4060cca1cc93aa2a9f1a1d340d95.setIcon(div_icon_a80e1f58701679d64bc2d296a3ef85e6);\n        \n    \n            var circle_fd0b70c5004ceaa591864b1ee3a30b09 = L.circle(\n                [28.56319718, -80.57682003],\n                {&quot;bubblingMouseEvents&quot;: true, &quot;color&quot;: &quot;#000000&quot;, &quot;dashArray&quot;: null, &quot;dashOffset&quot;: null, &quot;fill&quot;: true, &quot;fillColor&quot;: &quot;#000000&quot;, &quot;fillOpacity&quot;: 0.2, &quot;fillRule&quot;: &quot;evenodd&quot;, &quot;lineCap&quot;: &quot;round&quot;, &quot;lineJoin&quot;: &quot;round&quot;, &quot;opacity&quot;: 1.0, &quot;radius&quot;: 1000, &quot;stroke&quot;: true, &quot;weight&quot;: 3}\n            ).addTo(map_38ed1263d82d897c2a0e5893879193d8);\n        \n    \n        var popup_02d6f1d7b95b474287e88ece1216a1ff = L.popup({&quot;maxWidth&quot;: &quot;100%&quot;});\n\n        \n            \n                var html_da7cf9b8d484817be9c5d382d0456f43 = $(`&lt;div id=&quot;html_da7cf9b8d484817be9c5d382d0456f43&quot; style=&quot;width: 100.0%; height: 100.0%;&quot;&gt;CCAFS SLC-40&lt;/div&gt;`)[0];\n                popup_02d6f1d7b95b474287e88ece1216a1ff.setContent(html_da7cf9b8d484817be9c5d382d0456f43);\n            \n        \n\n        circle_fd0b70c5004ceaa591864b1ee3a30b09.bindPopup(popup_02d6f1d7b95b474287e88ece1216a1ff)\n        ;\n\n        \n    \n    \n            var marker_18cd00189f8c7893ab8c31dc45f0ec14 = L.marker(\n                [28.56319718, -80.57682003],\n                {}\n            ).addTo(map_38ed1263d82d897c2a0e5893879193d8);\n        \n    \n            var div_icon_23b2885afee89b36fe0d5ddc290ca6e9 = L.divIcon({&quot;className&quot;: &quot;empty&quot;, &quot;html&quot;: &quot;\\u003cdiv style=\\&quot;font-size: 12; color:#d35400;\\&quot;\\u003e\\u003cb\\u003eCCAFS SLC-40\\u003c/b\\u003e\\u003c/div\\u003e&quot;, &quot;iconAnchor&quot;: [0, 0], &quot;iconSize&quot;: [20, 20]});\n            marker_18cd00189f8c7893ab8c31dc45f0ec14.setIcon(div_icon_23b2885afee89b36fe0d5ddc290ca6e9);\n        \n    \n            var circle_6e8cc6c24e147e73ad0db3236576fbf0 = L.circle(\n                [28.57325457, -80.64689529],\n                {&quot;bubblingMouseEvents&quot;: true, &quot;color&quot;: &quot;#000000&quot;, &quot;dashArray&quot;: null, &quot;dashOffset&quot;: null, &quot;fill&quot;: true, &quot;fillColor&quot;: &quot;#000000&quot;, &quot;fillOpacity&quot;: 0.2, &quot;fillRule&quot;: &quot;evenodd&quot;, &quot;lineCap&quot;: &quot;round&quot;, &quot;lineJoin&quot;: &quot;round&quot;, &quot;opacity&quot;: 1.0, &quot;radius&quot;: 1000, &quot;stroke&quot;: true, &quot;weight&quot;: 3}\n            ).addTo(map_38ed1263d82d897c2a0e5893879193d8);\n        \n    \n        var popup_eee2021528415e22d22fcf2733654bbb = L.popup({&quot;maxWidth&quot;: &quot;100%&quot;});\n\n        \n            \n                var html_28862242d3441c149bd0e84666302ce8 = $(`&lt;div id=&quot;html_28862242d3441c149bd0e84666302ce8&quot; style=&quot;width: 100.0%; height: 100.0%;&quot;&gt;KSC LC-39A&lt;/div&gt;`)[0];\n                popup_eee2021528415e22d22fcf2733654bbb.setContent(html_28862242d3441c149bd0e84666302ce8);\n            \n        \n\n        circle_6e8cc6c24e147e73ad0db3236576fbf0.bindPopup(popup_eee2021528415e22d22fcf2733654bbb)\n        ;\n\n        \n    \n    \n            var marker_d98adcab17c23aad3fcfaa630ff56921 = L.marker(\n                [28.57325457, -80.64689529],\n                {}\n            ).addTo(map_38ed1263d82d897c2a0e5893879193d8);\n        \n    \n            var div_icon_8dafde8b5a968744166c77b83a0898c8 = L.divIcon({&quot;className&quot;: &quot;empty&quot;, &quot;html&quot;: &quot;\\u003cdiv style=\\&quot;font-size: 12; color:#d35400;\\&quot;\\u003e\\u003cb\\u003eKSC LC-39A\\u003c/b\\u003e\\u003c/div\\u003e&quot;, &quot;iconAnchor&quot;: [0, 0], &quot;iconSize&quot;: [20, 20]});\n            marker_d98adcab17c23aad3fcfaa630ff56921.setIcon(div_icon_8dafde8b5a968744166c77b83a0898c8);\n        \n    \n            var circle_2734ac5c3ac06bb4153a80cbfcf1f67c = L.circle(\n                [34.63283416, -120.6107455],\n                {&quot;bubblingMouseEvents&quot;: true, &quot;color&quot;: &quot;#000000&quot;, &quot;dashArray&quot;: null, &quot;dashOffset&quot;: null, &quot;fill&quot;: true, &quot;fillColor&quot;: &quot;#000000&quot;, &quot;fillOpacity&quot;: 0.2, &quot;fillRule&quot;: &quot;evenodd&quot;, &quot;lineCap&quot;: &quot;round&quot;, &quot;lineJoin&quot;: &quot;round&quot;, &quot;opacity&quot;: 1.0, &quot;radius&quot;: 1000, &quot;stroke&quot;: true, &quot;weight&quot;: 3}\n            ).addTo(map_38ed1263d82d897c2a0e5893879193d8);\n        \n    \n        var popup_ae89239a619c0799657a889d4c9412ef = L.popup({&quot;maxWidth&quot;: &quot;100%&quot;});\n\n        \n            \n                var html_fcc8aecd292a7beeabe993f7abc88cf0 = $(`&lt;div id=&quot;html_fcc8aecd292a7beeabe993f7abc88cf0&quot; style=&quot;width: 100.0%; height: 100.0%;&quot;&gt;VAFB SLC-4E&lt;/div&gt;`)[0];\n                popup_ae89239a619c0799657a889d4c9412ef.setContent(html_fcc8aecd292a7beeabe993f7abc88cf0);\n            \n        \n\n        circle_2734ac5c3ac06bb4153a80cbfcf1f67c.bindPopup(popup_ae89239a619c0799657a889d4c9412ef)\n        ;\n\n        \n    \n    \n            var marker_2e0d6747fb58ffb466f8f3a18cf52bdc = L.marker(\n                [34.63283416, -120.6107455],\n                {}\n            ).addTo(map_38ed1263d82d897c2a0e5893879193d8);\n        \n    \n            var div_icon_481b834b4abaacc80f041ab331b4adfe = L.divIcon({&quot;className&quot;: &quot;empty&quot;, &quot;html&quot;: &quot;\\u003cdiv style=\\&quot;font-size: 12; color:#d35400;\\&quot;\\u003e\\u003cb\\u003eVAFB SLC-4E\\u003c/b\\u003e\\u003c/div\\u003e&quot;, &quot;iconAnchor&quot;: [0, 0], &quot;iconSize&quot;: [20, 20]});\n            marker_2e0d6747fb58ffb466f8f3a18cf52bdc.setIcon(div_icon_481b834b4abaacc80f041ab331b4adfe);\n        \n    \n            var marker_cluster_0271ef49173f5b980486d6c64b4a2630 = L.markerClusterGroup(\n                {}\n            );\n            map_38ed1263d82d897c2a0e5893879193d8.addLayer(marker_cluster_0271ef49173f5b980486d6c64b4a2630);\n        \n    \n            var mouse_position_8c96db04cbc39c5ad1df8f46fc064bb7 = new L.Control.MousePosition(\n                {&quot;emptyString&quot;: &quot;NaN&quot;, &quot;lngFirst&quot;: false, &quot;numDigits&quot;: 20, &quot;position&quot;: &quot;topright&quot;, &quot;prefix&quot;: &quot;Lat:&quot;, &quot;separator&quot;: &quot; Long: &quot;}\n            );\n            mouse_position_8c96db04cbc39c5ad1df8f46fc064bb7.options[&quot;latFormatter&quot;] =\n                function(num) {return L.Util.formatNum(num, 5);};;\n            mouse_position_8c96db04cbc39c5ad1df8f46fc064bb7.options[&quot;lngFormatter&quot;] =\n                function(num) {return L.Util.formatNum(num, 5);};;\n            map_38ed1263d82d897c2a0e5893879193d8.addControl(mouse_position_8c96db04cbc39c5ad1df8f46fc064bb7);\n        \n    \n            var marker_c3173c2a80a6a8acb85e64211bbb6bdc = L.marker(\n                [28.56334, -80.56799],\n                {}\n            ).addTo(map_38ed1263d82d897c2a0e5893879193d8);\n        \n    \n            var div_icon_395e189e9d2b0486d24d092536c4b838 = L.divIcon({&quot;className&quot;: &quot;empty&quot;, &quot;html&quot;: &quot;\\u003cdiv style=\\&quot;font-size: 12; color:#d35400;\\&quot;\\u003e\\u003cb\\u003e      0.86 KM\\u003c/b\\u003e\\u003c/div\\u003e&quot;, &quot;iconAnchor&quot;: [0, 0], &quot;iconSize&quot;: [20, 20]});\n            marker_c3173c2a80a6a8acb85e64211bbb6bdc.setIcon(div_icon_395e189e9d2b0486d24d092536c4b838);\n        \n    \n            var poly_line_69df613bb02e5ab59546553aad7ed920 = L.polyline(\n                [[28.563197, -80.57682], [28.56334, -80.56799]],\n                {&quot;bubblingMouseEvents&quot;: true, &quot;color&quot;: &quot;#3388ff&quot;, &quot;dashArray&quot;: null, &quot;dashOffset&quot;: null, &quot;fill&quot;: false, &quot;fillColor&quot;: &quot;#3388ff&quot;, &quot;fillOpacity&quot;: 0.2, &quot;fillRule&quot;: &quot;evenodd&quot;, &quot;lineCap&quot;: &quot;round&quot;, &quot;lineJoin&quot;: &quot;round&quot;, &quot;noClip&quot;: false, &quot;opacity&quot;: 1.0, &quot;smoothFactor&quot;: 1.0, &quot;stroke&quot;: true, &quot;weight&quot;: 1}\n            ).addTo(map_38ed1263d82d897c2a0e5893879193d8);\n        \n&lt;/script&gt;\n&lt;/html&gt;\" style=\"position:absolute;width:100%;height:100%;left:0;top:0;border:none !important;\" allowfullscreen webkitallowfullscreen mozallowfullscreen></iframe></div></div>"
          },
          "metadata": {}
        }
      ]
    },
    {
      "cell_type": "markdown",
      "source": "Your updated map with distance line should look like the following screenshot:\n",
      "metadata": {}
    },
    {
      "cell_type": "markdown",
      "source": "<center>\n    <img src=\"https://cf-courses-data.s3.us.cloud-object-storage.appdomain.cloud/IBM-DS0321EN-SkillsNetwork/labs/module_3/images/launch_site_marker_distance.png\">\n</center>\n",
      "metadata": {}
    },
    {
      "cell_type": "markdown",
      "source": "*TODO:* Similarly, you can draw a line betwee a launch site to its closest city, railway, highway, etc. You need to use `MousePosition` to find the their coordinates on the map first\n",
      "metadata": {}
    },
    {
      "cell_type": "markdown",
      "source": "A railway map symbol may look like this:\n",
      "metadata": {}
    },
    {
      "cell_type": "markdown",
      "source": "<center>\n    <img src=\"https://cf-courses-data.s3.us.cloud-object-storage.appdomain.cloud/IBM-DS0321EN-SkillsNetwork/labs/module_3/images/railway.png\">\n</center>\n",
      "metadata": {}
    },
    {
      "cell_type": "markdown",
      "source": "A highway map symbol may look like this:\n",
      "metadata": {}
    },
    {
      "cell_type": "markdown",
      "source": "<center>\n    <img src=\"https://cf-courses-data.s3.us.cloud-object-storage.appdomain.cloud/IBM-DS0321EN-SkillsNetwork/labs/module_3/images/highway.png\">\n</center>\n",
      "metadata": {}
    },
    {
      "cell_type": "markdown",
      "source": "A city map symbol may look like this:\n",
      "metadata": {}
    },
    {
      "cell_type": "markdown",
      "source": "<center>\n    <img src=\"https://cf-courses-data.s3.us.cloud-object-storage.appdomain.cloud/IBM-DS0321EN-SkillsNetwork/labs/module_3/images/city.png\">\n</center>\n",
      "metadata": {}
    },
    {
      "cell_type": "code",
      "source": "# Create a marker with distance to a closest city, railway, highway, etc.\n# Draw a line between the marker to the launch site\nclosest_highway = 28.56335, -80.57085\nclosest_railroad = 28.57206, -80.58525\nclosest_city = 28.10473, -80.64531",
      "metadata": {
        "trusted": true
      },
      "execution_count": 21,
      "outputs": []
    },
    {
      "cell_type": "code",
      "source": "distance_highway = calculate_distance(launch_site_lat, launch_site_lon, closest_highway[0], closest_highway[1])\nprint('distance_highway =',distance_highway, ' km')\ndistance_railroad = calculate_distance(launch_site_lat, launch_site_lon, closest_railroad[0], closest_railroad[1])\nprint('distance_railroad =',distance_railroad, ' km')\ndistance_city = calculate_distance(launch_site_lat, launch_site_lon, closest_city[0], closest_city[1])\nprint('distance_city =',distance_city, ' km')",
      "metadata": {
        "trusted": true
      },
      "execution_count": 22,
      "outputs": [
        {
          "name": "stdout",
          "text": "distance_highway = 0.5834695366934144  km\ndistance_railroad = 1.2845344718142522  km\ndistance_city = 51.434169995172326  km\n",
          "output_type": "stream"
        }
      ]
    },
    {
      "cell_type": "code",
      "source": "\n\n# closest highway marker\ndistance_marker = folium.Marker(\n   closest_highway,\n   icon=DivIcon(\n       icon_size=(20,20),\n       icon_anchor=(0,0),\n       html='<div style=\"font-size: 12; color:#d35400;\"><b>%s</b></div>' % \"{:10.2f} KM\".format(distance_highway),\n       )\n   )\nsite_map.add_child(distance_marker)\n# closest highway line\ncoordinates = [[launch_site_lat,launch_site_lon],closest_highway]\nlines=folium.PolyLine(locations=coordinates, weight=1)\nsite_map.add_child(lines)\n\n# closest railroad marker\ndistance_marker = folium.Marker(\n   closest_railroad,\n   icon=DivIcon(\n       icon_size=(20,20),\n       icon_anchor=(0,0),\n       html='<div style=\"font-size: 12; color:#d35400;\"><b>%s</b></div>' % \"{:10.2f} KM\".format(distance_railroad),\n       )\n   )\nsite_map.add_child(distance_marker)\n# closest railroad line\ncoordinates = [[launch_site_lat,launch_site_lon],closest_railroad]\nlines=folium.PolyLine(locations=coordinates, weight=1)\nsite_map.add_child(lines)\n\n# closest city marker\ndistance_marker = folium.Marker(\n   closest_city,\n   icon=DivIcon(\n       icon_size=(20,20),\n       icon_anchor=(0,0),\n       html='<div style=\"font-size: 12; color:#d35400;\"><b>%s</b></div>' % \"{:10.2f} KM\".format(distance_city),\n       )\n   )\nsite_map.add_child(distance_marker)\n# closest city line\ncoordinates = [[launch_site_lat,launch_site_lon],closest_city]\nlines=folium.PolyLine(locations=coordinates, weight=1)\nsite_map.add_child(lines)\n\n",
      "metadata": {
        "trusted": true
      },
      "execution_count": 23,
      "outputs": [
        {
          "execution_count": 23,
          "output_type": "execute_result",
          "data": {
            "text/plain": "<folium.folium.Map at 0x42253c8>",
            "text/html": "<div style=\"width:100%;\"><div style=\"position:relative;width:100%;height:0;padding-bottom:60%;\"><span style=\"color:#565656\">Make this Notebook Trusted to load map: File -> Trust Notebook</span><iframe srcdoc=\"&lt;!DOCTYPE html&gt;\n&lt;html&gt;\n&lt;head&gt;\n    \n    &lt;meta http-equiv=&quot;content-type&quot; content=&quot;text/html; charset=UTF-8&quot; /&gt;\n    \n        &lt;script&gt;\n            L_NO_TOUCH = false;\n            L_DISABLE_3D = false;\n        &lt;/script&gt;\n    \n    &lt;style&gt;html, body {width: 100%;height: 100%;margin: 0;padding: 0;}&lt;/style&gt;\n    &lt;style&gt;#map {position:absolute;top:0;bottom:0;right:0;left:0;}&lt;/style&gt;\n    &lt;script src=&quot;https://cdn.jsdelivr.net/npm/leaflet@1.9.3/dist/leaflet.js&quot;&gt;&lt;/script&gt;\n    &lt;script src=&quot;https://code.jquery.com/jquery-1.12.4.min.js&quot;&gt;&lt;/script&gt;\n    &lt;script src=&quot;https://cdn.jsdelivr.net/npm/bootstrap@5.2.2/dist/js/bootstrap.bundle.min.js&quot;&gt;&lt;/script&gt;\n    &lt;script src=&quot;https://cdnjs.cloudflare.com/ajax/libs/Leaflet.awesome-markers/2.0.2/leaflet.awesome-markers.js&quot;&gt;&lt;/script&gt;\n    &lt;link rel=&quot;stylesheet&quot; href=&quot;https://cdn.jsdelivr.net/npm/leaflet@1.9.3/dist/leaflet.css&quot;/&gt;\n    &lt;link rel=&quot;stylesheet&quot; href=&quot;https://cdn.jsdelivr.net/npm/bootstrap@5.2.2/dist/css/bootstrap.min.css&quot;/&gt;\n    &lt;link rel=&quot;stylesheet&quot; href=&quot;https://netdna.bootstrapcdn.com/bootstrap/3.0.0/css/bootstrap.min.css&quot;/&gt;\n    &lt;link rel=&quot;stylesheet&quot; href=&quot;https://cdn.jsdelivr.net/npm/@fortawesome/fontawesome-free@6.2.0/css/all.min.css&quot;/&gt;\n    &lt;link rel=&quot;stylesheet&quot; href=&quot;https://cdnjs.cloudflare.com/ajax/libs/Leaflet.awesome-markers/2.0.2/leaflet.awesome-markers.css&quot;/&gt;\n    &lt;link rel=&quot;stylesheet&quot; href=&quot;https://cdn.jsdelivr.net/gh/python-visualization/folium/folium/templates/leaflet.awesome.rotate.min.css&quot;/&gt;\n    \n            &lt;meta name=&quot;viewport&quot; content=&quot;width=device-width,\n                initial-scale=1.0, maximum-scale=1.0, user-scalable=no&quot; /&gt;\n            &lt;style&gt;\n                #map_38ed1263d82d897c2a0e5893879193d8 {\n                    position: relative;\n                    width: 100.0%;\n                    height: 100.0%;\n                    left: 0.0%;\n                    top: 0.0%;\n                }\n                .leaflet-container { font-size: 1rem; }\n            &lt;/style&gt;\n        \n    &lt;script src=&quot;https://cdnjs.cloudflare.com/ajax/libs/leaflet.markercluster/1.1.0/leaflet.markercluster.js&quot;&gt;&lt;/script&gt;\n    &lt;link rel=&quot;stylesheet&quot; href=&quot;https://cdnjs.cloudflare.com/ajax/libs/leaflet.markercluster/1.1.0/MarkerCluster.css&quot;/&gt;\n    &lt;link rel=&quot;stylesheet&quot; href=&quot;https://cdnjs.cloudflare.com/ajax/libs/leaflet.markercluster/1.1.0/MarkerCluster.Default.css&quot;/&gt;\n    &lt;script src=&quot;https://cdn.jsdelivr.net/gh/ardhi/Leaflet.MousePosition/src/L.Control.MousePosition.min.js&quot;&gt;&lt;/script&gt;\n    &lt;link rel=&quot;stylesheet&quot; href=&quot;https://cdn.jsdelivr.net/gh/ardhi/Leaflet.MousePosition/src/L.Control.MousePosition.min.css&quot;/&gt;\n&lt;/head&gt;\n&lt;body&gt;\n    \n    \n            &lt;div class=&quot;folium-map&quot; id=&quot;map_38ed1263d82d897c2a0e5893879193d8&quot; &gt;&lt;/div&gt;\n        \n&lt;/body&gt;\n&lt;script&gt;\n    \n    \n            var map_38ed1263d82d897c2a0e5893879193d8 = L.map(\n                &quot;map_38ed1263d82d897c2a0e5893879193d8&quot;,\n                {\n                    center: [29.559684888503615, -95.0830971930759],\n                    crs: L.CRS.EPSG3857,\n                    zoom: 5,\n                    zoomControl: true,\n                    preferCanvas: false,\n                }\n            );\n\n            \n\n        \n    \n            var tile_layer_ce1fb1b9acbee3a6399779b2ccd81bb8 = L.tileLayer(\n                &quot;https://{s}.tile.openstreetmap.org/{z}/{x}/{y}.png&quot;,\n                {&quot;attribution&quot;: &quot;Data by \\u0026copy; \\u003ca target=\\&quot;_blank\\&quot; href=\\&quot;http://openstreetmap.org\\&quot;\\u003eOpenStreetMap\\u003c/a\\u003e, under \\u003ca target=\\&quot;_blank\\&quot; href=\\&quot;http://www.openstreetmap.org/copyright\\&quot;\\u003eODbL\\u003c/a\\u003e.&quot;, &quot;detectRetina&quot;: false, &quot;maxNativeZoom&quot;: 18, &quot;maxZoom&quot;: 18, &quot;minZoom&quot;: 0, &quot;noWrap&quot;: false, &quot;opacity&quot;: 1, &quot;subdomains&quot;: &quot;abc&quot;, &quot;tms&quot;: false}\n            ).addTo(map_38ed1263d82d897c2a0e5893879193d8);\n        \n    \n            var circle_a6d321a1ba701069111310dbf5f1897f = L.circle(\n                [28.56230197, -80.57735648],\n                {&quot;bubblingMouseEvents&quot;: true, &quot;color&quot;: &quot;#000000&quot;, &quot;dashArray&quot;: null, &quot;dashOffset&quot;: null, &quot;fill&quot;: true, &quot;fillColor&quot;: &quot;#000000&quot;, &quot;fillOpacity&quot;: 0.2, &quot;fillRule&quot;: &quot;evenodd&quot;, &quot;lineCap&quot;: &quot;round&quot;, &quot;lineJoin&quot;: &quot;round&quot;, &quot;opacity&quot;: 1.0, &quot;radius&quot;: 1000, &quot;stroke&quot;: true, &quot;weight&quot;: 3}\n            ).addTo(map_38ed1263d82d897c2a0e5893879193d8);\n        \n    \n        var popup_aaa8239143ddda3cabe08d03d3c30f10 = L.popup({&quot;maxWidth&quot;: &quot;100%&quot;});\n\n        \n            \n                var html_3b5e9432e702c74950c1a187c0fa75ee = $(`&lt;div id=&quot;html_3b5e9432e702c74950c1a187c0fa75ee&quot; style=&quot;width: 100.0%; height: 100.0%;&quot;&gt;CCAFS LC-40&lt;/div&gt;`)[0];\n                popup_aaa8239143ddda3cabe08d03d3c30f10.setContent(html_3b5e9432e702c74950c1a187c0fa75ee);\n            \n        \n\n        circle_a6d321a1ba701069111310dbf5f1897f.bindPopup(popup_aaa8239143ddda3cabe08d03d3c30f10)\n        ;\n\n        \n    \n    \n            var marker_6daa4060cca1cc93aa2a9f1a1d340d95 = L.marker(\n                [28.56230197, -80.57735648],\n                {}\n            ).addTo(map_38ed1263d82d897c2a0e5893879193d8);\n        \n    \n            var div_icon_a80e1f58701679d64bc2d296a3ef85e6 = L.divIcon({&quot;className&quot;: &quot;empty&quot;, &quot;html&quot;: &quot;\\u003cdiv style=\\&quot;font-size: 12; color:#d35400;\\&quot;\\u003e\\u003cb\\u003eCCAFS LC-40\\u003c/b\\u003e\\u003c/div\\u003e&quot;, &quot;iconAnchor&quot;: [0, 0], &quot;iconSize&quot;: [20, 20]});\n            marker_6daa4060cca1cc93aa2a9f1a1d340d95.setIcon(div_icon_a80e1f58701679d64bc2d296a3ef85e6);\n        \n    \n            var circle_fd0b70c5004ceaa591864b1ee3a30b09 = L.circle(\n                [28.56319718, -80.57682003],\n                {&quot;bubblingMouseEvents&quot;: true, &quot;color&quot;: &quot;#000000&quot;, &quot;dashArray&quot;: null, &quot;dashOffset&quot;: null, &quot;fill&quot;: true, &quot;fillColor&quot;: &quot;#000000&quot;, &quot;fillOpacity&quot;: 0.2, &quot;fillRule&quot;: &quot;evenodd&quot;, &quot;lineCap&quot;: &quot;round&quot;, &quot;lineJoin&quot;: &quot;round&quot;, &quot;opacity&quot;: 1.0, &quot;radius&quot;: 1000, &quot;stroke&quot;: true, &quot;weight&quot;: 3}\n            ).addTo(map_38ed1263d82d897c2a0e5893879193d8);\n        \n    \n        var popup_02d6f1d7b95b474287e88ece1216a1ff = L.popup({&quot;maxWidth&quot;: &quot;100%&quot;});\n\n        \n            \n                var html_da7cf9b8d484817be9c5d382d0456f43 = $(`&lt;div id=&quot;html_da7cf9b8d484817be9c5d382d0456f43&quot; style=&quot;width: 100.0%; height: 100.0%;&quot;&gt;CCAFS SLC-40&lt;/div&gt;`)[0];\n                popup_02d6f1d7b95b474287e88ece1216a1ff.setContent(html_da7cf9b8d484817be9c5d382d0456f43);\n            \n        \n\n        circle_fd0b70c5004ceaa591864b1ee3a30b09.bindPopup(popup_02d6f1d7b95b474287e88ece1216a1ff)\n        ;\n\n        \n    \n    \n            var marker_18cd00189f8c7893ab8c31dc45f0ec14 = L.marker(\n                [28.56319718, -80.57682003],\n                {}\n            ).addTo(map_38ed1263d82d897c2a0e5893879193d8);\n        \n    \n            var div_icon_23b2885afee89b36fe0d5ddc290ca6e9 = L.divIcon({&quot;className&quot;: &quot;empty&quot;, &quot;html&quot;: &quot;\\u003cdiv style=\\&quot;font-size: 12; color:#d35400;\\&quot;\\u003e\\u003cb\\u003eCCAFS SLC-40\\u003c/b\\u003e\\u003c/div\\u003e&quot;, &quot;iconAnchor&quot;: [0, 0], &quot;iconSize&quot;: [20, 20]});\n            marker_18cd00189f8c7893ab8c31dc45f0ec14.setIcon(div_icon_23b2885afee89b36fe0d5ddc290ca6e9);\n        \n    \n            var circle_6e8cc6c24e147e73ad0db3236576fbf0 = L.circle(\n                [28.57325457, -80.64689529],\n                {&quot;bubblingMouseEvents&quot;: true, &quot;color&quot;: &quot;#000000&quot;, &quot;dashArray&quot;: null, &quot;dashOffset&quot;: null, &quot;fill&quot;: true, &quot;fillColor&quot;: &quot;#000000&quot;, &quot;fillOpacity&quot;: 0.2, &quot;fillRule&quot;: &quot;evenodd&quot;, &quot;lineCap&quot;: &quot;round&quot;, &quot;lineJoin&quot;: &quot;round&quot;, &quot;opacity&quot;: 1.0, &quot;radius&quot;: 1000, &quot;stroke&quot;: true, &quot;weight&quot;: 3}\n            ).addTo(map_38ed1263d82d897c2a0e5893879193d8);\n        \n    \n        var popup_eee2021528415e22d22fcf2733654bbb = L.popup({&quot;maxWidth&quot;: &quot;100%&quot;});\n\n        \n            \n                var html_28862242d3441c149bd0e84666302ce8 = $(`&lt;div id=&quot;html_28862242d3441c149bd0e84666302ce8&quot; style=&quot;width: 100.0%; height: 100.0%;&quot;&gt;KSC LC-39A&lt;/div&gt;`)[0];\n                popup_eee2021528415e22d22fcf2733654bbb.setContent(html_28862242d3441c149bd0e84666302ce8);\n            \n        \n\n        circle_6e8cc6c24e147e73ad0db3236576fbf0.bindPopup(popup_eee2021528415e22d22fcf2733654bbb)\n        ;\n\n        \n    \n    \n            var marker_d98adcab17c23aad3fcfaa630ff56921 = L.marker(\n                [28.57325457, -80.64689529],\n                {}\n            ).addTo(map_38ed1263d82d897c2a0e5893879193d8);\n        \n    \n            var div_icon_8dafde8b5a968744166c77b83a0898c8 = L.divIcon({&quot;className&quot;: &quot;empty&quot;, &quot;html&quot;: &quot;\\u003cdiv style=\\&quot;font-size: 12; color:#d35400;\\&quot;\\u003e\\u003cb\\u003eKSC LC-39A\\u003c/b\\u003e\\u003c/div\\u003e&quot;, &quot;iconAnchor&quot;: [0, 0], &quot;iconSize&quot;: [20, 20]});\n            marker_d98adcab17c23aad3fcfaa630ff56921.setIcon(div_icon_8dafde8b5a968744166c77b83a0898c8);\n        \n    \n            var circle_2734ac5c3ac06bb4153a80cbfcf1f67c = L.circle(\n                [34.63283416, -120.6107455],\n                {&quot;bubblingMouseEvents&quot;: true, &quot;color&quot;: &quot;#000000&quot;, &quot;dashArray&quot;: null, &quot;dashOffset&quot;: null, &quot;fill&quot;: true, &quot;fillColor&quot;: &quot;#000000&quot;, &quot;fillOpacity&quot;: 0.2, &quot;fillRule&quot;: &quot;evenodd&quot;, &quot;lineCap&quot;: &quot;round&quot;, &quot;lineJoin&quot;: &quot;round&quot;, &quot;opacity&quot;: 1.0, &quot;radius&quot;: 1000, &quot;stroke&quot;: true, &quot;weight&quot;: 3}\n            ).addTo(map_38ed1263d82d897c2a0e5893879193d8);\n        \n    \n        var popup_ae89239a619c0799657a889d4c9412ef = L.popup({&quot;maxWidth&quot;: &quot;100%&quot;});\n\n        \n            \n                var html_fcc8aecd292a7beeabe993f7abc88cf0 = $(`&lt;div id=&quot;html_fcc8aecd292a7beeabe993f7abc88cf0&quot; style=&quot;width: 100.0%; height: 100.0%;&quot;&gt;VAFB SLC-4E&lt;/div&gt;`)[0];\n                popup_ae89239a619c0799657a889d4c9412ef.setContent(html_fcc8aecd292a7beeabe993f7abc88cf0);\n            \n        \n\n        circle_2734ac5c3ac06bb4153a80cbfcf1f67c.bindPopup(popup_ae89239a619c0799657a889d4c9412ef)\n        ;\n\n        \n    \n    \n            var marker_2e0d6747fb58ffb466f8f3a18cf52bdc = L.marker(\n                [34.63283416, -120.6107455],\n                {}\n            ).addTo(map_38ed1263d82d897c2a0e5893879193d8);\n        \n    \n            var div_icon_481b834b4abaacc80f041ab331b4adfe = L.divIcon({&quot;className&quot;: &quot;empty&quot;, &quot;html&quot;: &quot;\\u003cdiv style=\\&quot;font-size: 12; color:#d35400;\\&quot;\\u003e\\u003cb\\u003eVAFB SLC-4E\\u003c/b\\u003e\\u003c/div\\u003e&quot;, &quot;iconAnchor&quot;: [0, 0], &quot;iconSize&quot;: [20, 20]});\n            marker_2e0d6747fb58ffb466f8f3a18cf52bdc.setIcon(div_icon_481b834b4abaacc80f041ab331b4adfe);\n        \n    \n            var marker_cluster_0271ef49173f5b980486d6c64b4a2630 = L.markerClusterGroup(\n                {}\n            );\n            map_38ed1263d82d897c2a0e5893879193d8.addLayer(marker_cluster_0271ef49173f5b980486d6c64b4a2630);\n        \n    \n            var mouse_position_8c96db04cbc39c5ad1df8f46fc064bb7 = new L.Control.MousePosition(\n                {&quot;emptyString&quot;: &quot;NaN&quot;, &quot;lngFirst&quot;: false, &quot;numDigits&quot;: 20, &quot;position&quot;: &quot;topright&quot;, &quot;prefix&quot;: &quot;Lat:&quot;, &quot;separator&quot;: &quot; Long: &quot;}\n            );\n            mouse_position_8c96db04cbc39c5ad1df8f46fc064bb7.options[&quot;latFormatter&quot;] =\n                function(num) {return L.Util.formatNum(num, 5);};;\n            mouse_position_8c96db04cbc39c5ad1df8f46fc064bb7.options[&quot;lngFormatter&quot;] =\n                function(num) {return L.Util.formatNum(num, 5);};;\n            map_38ed1263d82d897c2a0e5893879193d8.addControl(mouse_position_8c96db04cbc39c5ad1df8f46fc064bb7);\n        \n    \n            var marker_c3173c2a80a6a8acb85e64211bbb6bdc = L.marker(\n                [28.56334, -80.56799],\n                {}\n            ).addTo(map_38ed1263d82d897c2a0e5893879193d8);\n        \n    \n            var div_icon_395e189e9d2b0486d24d092536c4b838 = L.divIcon({&quot;className&quot;: &quot;empty&quot;, &quot;html&quot;: &quot;\\u003cdiv style=\\&quot;font-size: 12; color:#d35400;\\&quot;\\u003e\\u003cb\\u003e      0.86 KM\\u003c/b\\u003e\\u003c/div\\u003e&quot;, &quot;iconAnchor&quot;: [0, 0], &quot;iconSize&quot;: [20, 20]});\n            marker_c3173c2a80a6a8acb85e64211bbb6bdc.setIcon(div_icon_395e189e9d2b0486d24d092536c4b838);\n        \n    \n            var poly_line_69df613bb02e5ab59546553aad7ed920 = L.polyline(\n                [[28.563197, -80.57682], [28.56334, -80.56799]],\n                {&quot;bubblingMouseEvents&quot;: true, &quot;color&quot;: &quot;#3388ff&quot;, &quot;dashArray&quot;: null, &quot;dashOffset&quot;: null, &quot;fill&quot;: false, &quot;fillColor&quot;: &quot;#3388ff&quot;, &quot;fillOpacity&quot;: 0.2, &quot;fillRule&quot;: &quot;evenodd&quot;, &quot;lineCap&quot;: &quot;round&quot;, &quot;lineJoin&quot;: &quot;round&quot;, &quot;noClip&quot;: false, &quot;opacity&quot;: 1.0, &quot;smoothFactor&quot;: 1.0, &quot;stroke&quot;: true, &quot;weight&quot;: 1}\n            ).addTo(map_38ed1263d82d897c2a0e5893879193d8);\n        \n    \n            var marker_e6b605585d72888b5db707ac160e1650 = L.marker(\n                [28.56335, -80.57085],\n                {}\n            ).addTo(map_38ed1263d82d897c2a0e5893879193d8);\n        \n    \n            var div_icon_08057e9f96cc4993a1de3fa9f2c2b627 = L.divIcon({&quot;className&quot;: &quot;empty&quot;, &quot;html&quot;: &quot;\\u003cdiv style=\\&quot;font-size: 12; color:#d35400;\\&quot;\\u003e\\u003cb\\u003e      0.58 KM\\u003c/b\\u003e\\u003c/div\\u003e&quot;, &quot;iconAnchor&quot;: [0, 0], &quot;iconSize&quot;: [20, 20]});\n            marker_e6b605585d72888b5db707ac160e1650.setIcon(div_icon_08057e9f96cc4993a1de3fa9f2c2b627);\n        \n    \n            var poly_line_48c7a8363a6e58ead41e2e7c56fc86c8 = L.polyline(\n                [[28.563197, -80.57682], [28.56335, -80.57085]],\n                {&quot;bubblingMouseEvents&quot;: true, &quot;color&quot;: &quot;#3388ff&quot;, &quot;dashArray&quot;: null, &quot;dashOffset&quot;: null, &quot;fill&quot;: false, &quot;fillColor&quot;: &quot;#3388ff&quot;, &quot;fillOpacity&quot;: 0.2, &quot;fillRule&quot;: &quot;evenodd&quot;, &quot;lineCap&quot;: &quot;round&quot;, &quot;lineJoin&quot;: &quot;round&quot;, &quot;noClip&quot;: false, &quot;opacity&quot;: 1.0, &quot;smoothFactor&quot;: 1.0, &quot;stroke&quot;: true, &quot;weight&quot;: 1}\n            ).addTo(map_38ed1263d82d897c2a0e5893879193d8);\n        \n    \n            var marker_b34dadb2335bce7ea80e3811b92072b9 = L.marker(\n                [28.57206, -80.58525],\n                {}\n            ).addTo(map_38ed1263d82d897c2a0e5893879193d8);\n        \n    \n            var div_icon_bd9bd76721a63991b0d6027221babcf8 = L.divIcon({&quot;className&quot;: &quot;empty&quot;, &quot;html&quot;: &quot;\\u003cdiv style=\\&quot;font-size: 12; color:#d35400;\\&quot;\\u003e\\u003cb\\u003e      1.28 KM\\u003c/b\\u003e\\u003c/div\\u003e&quot;, &quot;iconAnchor&quot;: [0, 0], &quot;iconSize&quot;: [20, 20]});\n            marker_b34dadb2335bce7ea80e3811b92072b9.setIcon(div_icon_bd9bd76721a63991b0d6027221babcf8);\n        \n    \n            var poly_line_167c4e8dfb2a945ab94fd82fab009263 = L.polyline(\n                [[28.563197, -80.57682], [28.57206, -80.58525]],\n                {&quot;bubblingMouseEvents&quot;: true, &quot;color&quot;: &quot;#3388ff&quot;, &quot;dashArray&quot;: null, &quot;dashOffset&quot;: null, &quot;fill&quot;: false, &quot;fillColor&quot;: &quot;#3388ff&quot;, &quot;fillOpacity&quot;: 0.2, &quot;fillRule&quot;: &quot;evenodd&quot;, &quot;lineCap&quot;: &quot;round&quot;, &quot;lineJoin&quot;: &quot;round&quot;, &quot;noClip&quot;: false, &quot;opacity&quot;: 1.0, &quot;smoothFactor&quot;: 1.0, &quot;stroke&quot;: true, &quot;weight&quot;: 1}\n            ).addTo(map_38ed1263d82d897c2a0e5893879193d8);\n        \n    \n            var marker_30a744eb2b11ba88a2f1123523f49001 = L.marker(\n                [28.10473, -80.64531],\n                {}\n            ).addTo(map_38ed1263d82d897c2a0e5893879193d8);\n        \n    \n            var div_icon_b5578e5d30a377ddcb17500b5295f58b = L.divIcon({&quot;className&quot;: &quot;empty&quot;, &quot;html&quot;: &quot;\\u003cdiv style=\\&quot;font-size: 12; color:#d35400;\\&quot;\\u003e\\u003cb\\u003e     51.43 KM\\u003c/b\\u003e\\u003c/div\\u003e&quot;, &quot;iconAnchor&quot;: [0, 0], &quot;iconSize&quot;: [20, 20]});\n            marker_30a744eb2b11ba88a2f1123523f49001.setIcon(div_icon_b5578e5d30a377ddcb17500b5295f58b);\n        \n    \n            var poly_line_09fd35f01fbf78c7a7399a15781da588 = L.polyline(\n                [[28.563197, -80.57682], [28.10473, -80.64531]],\n                {&quot;bubblingMouseEvents&quot;: true, &quot;color&quot;: &quot;#3388ff&quot;, &quot;dashArray&quot;: null, &quot;dashOffset&quot;: null, &quot;fill&quot;: false, &quot;fillColor&quot;: &quot;#3388ff&quot;, &quot;fillOpacity&quot;: 0.2, &quot;fillRule&quot;: &quot;evenodd&quot;, &quot;lineCap&quot;: &quot;round&quot;, &quot;lineJoin&quot;: &quot;round&quot;, &quot;noClip&quot;: false, &quot;opacity&quot;: 1.0, &quot;smoothFactor&quot;: 1.0, &quot;stroke&quot;: true, &quot;weight&quot;: 1}\n            ).addTo(map_38ed1263d82d897c2a0e5893879193d8);\n        \n&lt;/script&gt;\n&lt;/html&gt;\" style=\"position:absolute;width:100%;height:100%;left:0;top:0;border:none !important;\" allowfullscreen webkitallowfullscreen mozallowfullscreen></iframe></div></div>"
          },
          "metadata": {}
        }
      ]
    },
    {
      "cell_type": "markdown",
      "source": "After you plot distance lines to the proximities, you can answer the following questions easily:\n\n*   Are launch sites in close proximity to railways?\n*   Are launch sites in close proximity to highways?\n*   Are launch sites in close proximity to coastline?\n*   Do launch sites keep certain distance away from cities?\n\nAlso please try to explain your findings.\n",
      "metadata": {}
    },
    {
      "cell_type": "markdown",
      "source": "# Next Steps:\n\nNow you have discovered many interesting insights related to the launch sites' location using folium, in a very interactive way. Next, you will need to build a dashboard using Ploty Dash on detailed launch records.\n",
      "metadata": {}
    },
    {
      "cell_type": "markdown",
      "source": "## Authors\n",
      "metadata": {}
    },
    {
      "cell_type": "markdown",
      "source": "[Pratiksha Verma](https://www.linkedin.com/in/pratiksha-verma-6487561b1/?utm_medium=Exinfluencer&utm_source=Exinfluencer&utm_content=000026UJ&utm_term=10006555&utm_id=NA-SkillsNetwork-Channel-SkillsNetworkCoursesIBMDS0321ENSkillsNetwork865-2022-01-01)\n",
      "metadata": {}
    },
    {
      "cell_type": "markdown",
      "source": "## Change Log\n",
      "metadata": {}
    },
    {
      "cell_type": "markdown",
      "source": "| Date (YYYY-MM-DD) | Version | Changed By      | Change Description      |\n| ----------------- | ------- | -------------   | ----------------------- |\n| 2022-11-09        | 1.0     | Pratiksha Verma | Converted initial version to Jupyterlite|\n",
      "metadata": {}
    },
    {
      "cell_type": "markdown",
      "source": "### <h3 align=\"center\"> IBM Corporation 2022. All rights reserved. <h3/>\n",
      "metadata": {}
    }
  ]
}