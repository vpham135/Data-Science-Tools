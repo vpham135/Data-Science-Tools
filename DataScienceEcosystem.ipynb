{
 "cells": [
  {
   "cell_type": "markdown",
   "id": "e737bc2c-d8c5-45be-bb68-8652e23509bf",
   "metadata": {
    "jp-MarkdownHeadingCollapsed": true,
    "tags": []
   },
   "source": [
    "# Data Science Tools and Ecosystem"
   ]
  },
  {
   "cell_type": "markdown",
   "id": "bf9aa930-db17-4ebf-afe4-b2937049f6df",
   "metadata": {},
   "source": [
    "# Data Science Tools and Ecosystem"
   ]
  },
  {
   "cell_type": "markdown",
   "id": "c8dda22c-abf8-4dc7-8ea7-e3f4d8cabe45",
   "metadata": {},
   "source": [
    "## Introduction:\n",
    "### In this notebook, we are going to summary about Data Science Tools and Ecosystem. "
   ]
  },
  {
   "cell_type": "markdown",
   "id": "7273d5be-7616-431b-b318-01cee8a7d871",
   "metadata": {},
   "source": [
    "## Introduction:\n",
    "### In this notebook, we are going to summary about Data Science Tools and Ecosystem. "
   ]
  },
  {
   "cell_type": "markdown",
   "id": "14175293-9134-471b-be7b-7ffb3e6952eb",
   "metadata": {
    "jp-MarkdownHeadingCollapsed": true,
    "tags": []
   },
   "source": [
    "### Some of popular languages that Data Scientists use are:\n",
    "1. Python\n",
    "2. R\n",
    "3. SQL\n",
    "4. Java\n",
    "5. Julia\n",
    "6. Scala"
   ]
  },
  {
   "cell_type": "markdown",
   "id": "5e514b03-ffb9-4428-b3a1-cb3b5aa2240b",
   "metadata": {},
   "source": [
    "### Some of popular languages that Data Scientists use are:\n",
    "1. Python\n",
    "2. R\n",
    "3. SQL\n",
    "4. Java\n",
    "5. Julia\n",
    "6. Scala"
   ]
  },
  {
   "cell_type": "markdown",
   "id": "2053560a-b0d5-45b0-9ca1-629658798ff2",
   "metadata": {},
   "source": [
    "### Some of the commonly used libraries used by Data Scientist include:\n",
    "1. Tensor Flow\n",
    "2. NumPy\n",
    "3. SciPy\n",
    "4. Pandas\n",
    "5. PyTorch"
   ]
  },
  {
   "cell_type": "markdown",
   "id": "2703c314-0ca4-4866-886b-ddc730b27898",
   "metadata": {},
   "source": [
    "### Some of the commonly used libraries used by Data Scientist include:\n",
    "1. Tensor Flow\n",
    "2. NumPy\n",
    "3. SciPy\n",
    "4. Pandas\n",
    "5. PyTorch"
   ]
  },
  {
   "cell_type": "markdown",
   "id": "cb64bcbb-3e14-4ebe-86b4-0729007640ac",
   "metadata": {},
   "source": [
    "### Table of Data Science tools\n",
    "|Data Science Tools|\n",
    "|----------------------------|\n",
    "|RStudio|\n",
    "|Jupyter Notebook/ JupiterLab|\n",
    "|Apache Cassandra|"
   ]
  },
  {
   "cell_type": "markdown",
   "id": "a0b144c7-9b8f-42a0-b7a8-6f0d461cf79a",
   "metadata": {},
   "source": [
    "### Table of Data Science tools\n",
    "|Data Science Tools|\n",
    "|----------------------------|\n",
    "|RStudio|\n",
    "|Jupyter Notebook/ JupiterLab|\n",
    "|Apache Cassandra|"
   ]
  },
  {
   "cell_type": "markdown",
   "id": "4b918c18-ea9f-4104-a9fc-ddc81662c2b0",
   "metadata": {},
   "source": [
    "### Below are a few examples of evaluating arithmetic expressions in Python.\n",
    "- 6: a number is an arithmetic expressions\n",
    "- 3+4: Sum (addiction) of number also is an arithmetic expression\n",
    "- 7-3: The difference of two number (subtraction) is an arithmetic expression\n",
    "- (2+3)/2: is an arithmetic expression."
   ]
  },
  {
   "cell_type": "markdown",
   "id": "4744eacb-7742-41b6-b5e6-fdd997bcda97",
   "metadata": {
    "tags": []
   },
   "source": [
    "### Below are a few examples of evaluating arithmetic expressions in Python.\n",
    "- 6: a number is an arithmetic expressions\n",
    "- 3+4: Sum (addiction) of number also is an arithmetic expression\n",
    "- 7-3: The difference of two number (subtraction) is an arithmetic expression\n",
    "- (2+3)/2: is an arithmetic expression."
   ]
  },
  {
   "cell_type": "markdown",
   "id": "13b4e988-dbb9-442c-9636-fad352e44dbe",
   "metadata": {},
   "source": [
    "This is a simple arithmetic expression to multiply the add integers."
   ]
  },
  {
   "cell_type": "code",
   "execution_count": 1,
   "id": "b3464810-4d96-4c80-aa07-2925aafc8197",
   "metadata": {},
   "outputs": [
    {
     "data": {
      "text/plain": [
       "17"
      ]
     },
     "execution_count": 1,
     "metadata": {},
     "output_type": "execute_result"
    }
   ],
   "source": [
    "(3*4)+5"
   ]
  },
  {
   "cell_type": "markdown",
   "id": "cf8a0292-2c34-4bd2-a713-f87a431e8b2d",
   "metadata": {},
   "source": [
    "This will convert 200 minutes to hours by diving by 60"
   ]
  },
  {
   "cell_type": "code",
   "execution_count": 1,
   "id": "391504b5-5ec4-434e-bd7d-0201664ada95",
   "metadata": {},
   "outputs": [
    {
     "data": {
      "text/plain": [
       "3.3333333333333335"
      ]
     },
     "execution_count": 1,
     "metadata": {},
     "output_type": "execute_result"
    }
   ],
   "source": [
    "200/60"
   ]
  },
  {
   "cell_type": "markdown",
   "id": "efd89827-91bb-479a-a258-b01cc76ed389",
   "metadata": {},
   "source": [
    "**Objectives:**\n",
    "- List common Data Science Libraries\n",
    "- List Data Science Tools\n",
    "- List popular languages for Data Science"
   ]
  },
  {
   "cell_type": "markdown",
   "id": "caa77753-5330-44f2-9779-8dd6e318d83b",
   "metadata": {},
   "source": [
    "**Objectives:**\n",
    "- List common Data Science Libraries\n",
    "- List Data Science Tools\n",
    "- List popular languages for Data Science"
   ]
  },
  {
   "cell_type": "markdown",
   "id": "e253d936-882a-476c-bf52-68a819488afb",
   "metadata": {},
   "source": [
    "## Author: \n",
    "Vinh Pham"
   ]
  },
  {
   "cell_type": "markdown",
   "id": "e1329234-3d47-4c87-8388-687633953e96",
   "metadata": {},
   "source": [
    "## Author: \n",
    "Vinh Pham"
   ]
  },
  {
   "cell_type": "code",
   "execution_count": null,
   "id": "fe6b9eaf-14a2-4f2b-ad3b-ec9094fd7032",
   "metadata": {},
   "outputs": [],
   "source": []
  }
 ],
 "metadata": {
  "kernelspec": {
   "display_name": "Python",
   "language": "python",
   "name": "conda-env-python-py"
  },
  "language_info": {
   "codemirror_mode": {
    "name": "ipython",
    "version": 3
   },
   "file_extension": ".py",
   "mimetype": "text/x-python",
   "name": "python",
   "nbconvert_exporter": "python",
   "pygments_lexer": "ipython3",
   "version": "3.7.12"
  }
 },
 "nbformat": 4,
 "nbformat_minor": 5
}
